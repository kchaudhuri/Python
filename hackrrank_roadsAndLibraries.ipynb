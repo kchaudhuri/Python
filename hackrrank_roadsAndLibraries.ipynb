{
 "cells": [
  {
   "cell_type": "markdown",
   "metadata": {},
   "source": [
    "The Ruler of HackerLand believes that every citizen of the country should have access to a library. Unfortunately, HackerLand was hit by a tornado that destroyed all of its libraries and obstructed its roads! As you are the greatest programmer of HackerLand, the ruler wants your help to repair the roads and build some new libraries efficiently.\n",
    "\n",
    "HackerLand has n cities numbered from 1 to n. The cities are connected by m bidirectional roads. A citizen has access to a library if:\n",
    "\n",
    "Their city contains a library.\n",
    "They can travel by road from their city to a city containing a library."
   ]
  },
  {
   "cell_type": "code",
   "execution_count": null,
   "metadata": {},
   "outputs": [],
   "source": [
    "#!/bin/python3\n",
    "\n",
    "import sys\n",
    "\n",
    "\n",
    "\n",
    "def roadsAndLibraries(n, c_lib, c_road, cities):\n",
    "    group = []\n",
    "    for pair in cities:\n",
    "        \n",
    "        if group == []:\n",
    "            group.append(pair)\n",
    "        else:\n",
    "            exist = 0\n",
    "            for g in range(len(group)):\n",
    "                if (pair[0] in group[g]) or (pair[1] in group[g]):\n",
    "                    \n",
    "                    group[g].append(pair[0])\n",
    "                    group[g].append(pair[1])\n",
    "                    \n",
    "                    exist = 1\n",
    "            if exist == 0:\n",
    "                group.append(pair)\n",
    "    \n",
    "    cost = 0\n",
    "    for g in range(len(group)):\n",
    "        temp = list(set(group[g]))\n",
    "        \n",
    "        if c_lib <= c_road :\n",
    "            cost += c_lib * len(temp)\n",
    "        else:\n",
    "            cost += c_lib + c_road * (len(temp)-1)\n",
    "        \n",
    "    return cost\n",
    "                    \n",
    "                \n",
    "    \n",
    "\n",
    "if __name__ == \"__main__\":\n",
    "    q = int(input().strip())\n",
    "    for a0 in range(q):\n",
    "        n, m, c_lib, c_road = input().strip().split(' ')\n",
    "        n, m, c_lib, c_road = [int(n), int(m), int(c_lib), int(c_road)]\n",
    "        cities = []\n",
    "        for cities_i in range(m):\n",
    "           cities_t = [int(cities_temp) for cities_temp in input().strip().split(' ')]\n",
    "           cities.append(cities_t)\n",
    "        result = roadsAndLibraries(n, c_lib, c_road, cities)\n",
    "        print(result)"
   ]
  }
 ],
 "metadata": {
  "kernelspec": {
   "display_name": "Python 3",
   "language": "python",
   "name": "python3"
  },
  "language_info": {
   "codemirror_mode": {
    "name": "ipython",
    "version": 3
   },
   "file_extension": ".py",
   "mimetype": "text/x-python",
   "name": "python",
   "nbconvert_exporter": "python",
   "pygments_lexer": "ipython3",
   "version": "3.6.4"
  }
 },
 "nbformat": 4,
 "nbformat_minor": 2
}
