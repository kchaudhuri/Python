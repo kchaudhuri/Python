{
 "cells": [
  {
   "cell_type": "markdown",
   "metadata": {},
   "source": [
    "Mike wants to go fishing this weekend to nearby lake. His neighbour Alice (is the one Mike was hoping to ask out since long time) is also planing to go to the same spot for fishing this weekend. The probability that it will rain this weekend is p1. There are two possible ways to reach the fishing spot (bus or train). The probability that Mike will take the bus is pmb and that Alice will take the bus is pab. Travel plans of both are independent of each other and rain.\n",
    "\n",
    "What is the probability prs that Mike and Alice meet each other only (should not meet in bus or train) in a romantic setup (on a lake in rain)?\n",
    "\n",
    "Input constraints\n",
    "\n",
    "(0≤p1≤1), (0≤pab≤1), (0≤pmb≤1)\n",
    "Input format\n",
    "\n",
    "FIrst line: pmb\n",
    "Second line: pab\n",
    "Third line: p1\n",
    "Output format: prs, rounded up to six decimal places."
   ]
  },
  {
   "cell_type": "code",
   "execution_count": null,
   "metadata": {
    "collapsed": true
   },
   "outputs": [],
   "source": [
    "p_mb = float(input())\n",
    "p_ab = float(input())\n",
    "p_1 = float(input())\n",
    "\n",
    "p_rs = (p_1 * (p_ab * (1 - p_mb))) + (p_1 * (p_mb * (1 - p_ab)))\n",
    "print(\"{0:.6f}\".format(p_rs))"
   ]
  }
 ],
 "metadata": {
  "kernelspec": {
   "display_name": "Python 3",
   "language": "python",
   "name": "python3"
  },
  "language_info": {
   "codemirror_mode": {
    "name": "ipython",
    "version": 3
   },
   "file_extension": ".py",
   "mimetype": "text/x-python",
   "name": "python",
   "nbconvert_exporter": "python",
   "pygments_lexer": "ipython3",
   "version": "3.6.1"
  }
 },
 "nbformat": 4,
 "nbformat_minor": 2
}
