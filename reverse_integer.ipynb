{
 "cells": [
  {
   "cell_type": "markdown",
   "metadata": {},
   "source": [
    "Given a 32-bit signed integer, reverse digits of an integer.\n",
    "\n",
    "Input: 123\n",
    "Output: 321\n",
    "\n",
    "Input: -123\n",
    "Output: -321\n",
    "\n",
    "Input: 120\n",
    "Output: 21\n",
    "\n",
    "Assume we are dealing with an environment which could only store integers within the 32-bit signed integer range: [−231,  231 − 1]. For the purpose of this problem, assume that your function returns 0 when the reversed integer overflows."
   ]
  },
  {
   "cell_type": "code",
   "execution_count": null,
   "metadata": {},
   "outputs": [],
   "source": [
    "#my solution\n",
    "class Solution:\n",
    "    def reverse(self, x):\n",
    "        \"\"\"\n",
    "        :type x: int\n",
    "        :rtype: int\n",
    "        \"\"\"\n",
    "        sign, rev = 1, 0\n",
    "        \n",
    "        if x < 0:\n",
    "            x = abs(x)\n",
    "            sign = -1\n",
    "                    \n",
    "        while x != 0:\n",
    "            mod = x%10\n",
    "            rev = (rev*10) + mod\n",
    "            x = int(x/10)\n",
    "            \n",
    "        if (rev < -(2**31)) or (rev > (2**31)-1):\n",
    "            return 0\n",
    "        else:\n",
    "            return sign*rev"
   ]
  }
 ],
 "metadata": {
  "kernelspec": {
   "display_name": "Python 3",
   "language": "python",
   "name": "python3"
  },
  "language_info": {
   "codemirror_mode": {
    "name": "ipython",
    "version": 3
   },
   "file_extension": ".py",
   "mimetype": "text/x-python",
   "name": "python",
   "nbconvert_exporter": "python",
   "pygments_lexer": "ipython3",
   "version": "3.6.4"
  }
 },
 "nbformat": 4,
 "nbformat_minor": 2
}
