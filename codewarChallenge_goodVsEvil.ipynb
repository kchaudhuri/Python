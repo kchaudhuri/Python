{
 "cells": [
  {
   "cell_type": "markdown",
   "metadata": {},
   "source": [
    "Description\n",
    "Middle Earth is about to go to war. The forces of good will have many battles with the forces of evil. Different races will certainly be involved. Each race has a certain worth when battling against others. On the side of good we have the following races, with their associated worth:\n",
    "\n",
    "Hobbits: 1\n",
    "Men: 2\n",
    "Elves: 3\n",
    "Dwarves: 3\n",
    "Eagles: 4\n",
    "Wizards: 10\n",
    "On the side of evil we have:\n",
    "\n",
    "Orcs: 1\n",
    "Men: 2\n",
    "Wargs: 2\n",
    "Goblins: 2\n",
    "Uruk Hai: 3\n",
    "Trolls: 5\n",
    "Wizards: 10\n",
    "Although weather, location, supplies and valor play a part in any battle, if you add up the worth of the side of good and compare it with the worth of the side of evil, the side with the larger worth will tend to win.\n",
    "\n",
    "Thus, given the count of each of the races on the side of good, followed by the count of each of the races on the side of evil, determine which side wins.\n",
    "\n",
    "Input:\n",
    "The function will be given two parameters. Each parameter will be a string separated by a single space. Each string will contain the count of each race on the side of good and evil.\n",
    "\n",
    "The first parameter will contain the count of each race on the side of good in the following order:\n",
    "\n",
    "Hobbits, Men, Elves, Dwarves, Eagles, Wizards.\n",
    "The second parameter will contain the count of each race on the side of evil in the following order:\n",
    "\n",
    "Orcs, Men, Wargs, Goblins, Uruk Hai, Trolls, Wizards.\n",
    "All values are non-negative integers. The resulting sum of the worth for each side will not exceed the limit of a 32-bit integer.\n",
    "\n",
    "Output:\n",
    "Return \"Battle Result: Good triumphs over Evil\" if good wins, \"Battle Result: Evil eradicates all trace of Good\" if evil wins, or \"Battle Result: No victor on this battle field\" if it ends in a tie."
   ]
  },
  {
   "cell_type": "code",
   "execution_count": null,
   "metadata": {
    "collapsed": true
   },
   "outputs": [],
   "source": [
    "def goodVsEvil(good, evil):\n",
    "    \n",
    "    good_val =  [1,2,3,3,4,10]\n",
    "    evil_val =  [1,2,2,2,3,5,10]\n",
    "    \n",
    "    good_count = list(map (int, good.split(\" \")))\n",
    "    evil_count = list(map (int, evil.split(\" \")))\n",
    "    \n",
    "    gTot = sum([a*b for a,b in zip(good_val,good_count)])\n",
    "    eTot = sum([a*b for a,b in zip(evil_val,evil_count)])\n",
    "    \n",
    "    if gTot > eTot:\n",
    "        return \"Battle Result: Good triumphs over Evil\"\n",
    "    elif gTot < eTot:\n",
    "        return \"Battle Result: Evil eradicates all trace of Good\"\n",
    "    else:\n",
    "        return \"Battle Result: No victor on this battle field\""
   ]
  },
  {
   "cell_type": "code",
   "execution_count": null,
   "metadata": {
    "collapsed": true
   },
   "outputs": [],
   "source": [
    "Test.assert_equals(goodVsEvil('1 1 1 1 1 1', '1 1 1 1 1 1 1'),  'Battle Result: Evil eradicates all trace of Good', 'Evil should win')\n",
    "Test.assert_equals(goodVsEvil('0 0 0 0 0 10', '0 1 1 1 1 0 0'), 'Battle Result: Good triumphs over Evil', 'Good should win')\n",
    "Test.assert_equals(goodVsEvil('1 0 0 0 0 0', '1 0 0 0 0 0 0'),  'Battle Result: No victor on this battle field', 'Should be a tie')"
   ]
  }
 ],
 "metadata": {
  "kernelspec": {
   "display_name": "Python 3",
   "language": "python",
   "name": "python3"
  },
  "language_info": {
   "codemirror_mode": {
    "name": "ipython",
    "version": 3
   },
   "file_extension": ".py",
   "mimetype": "text/x-python",
   "name": "python",
   "nbconvert_exporter": "python",
   "pygments_lexer": "ipython3",
   "version": "3.6.1"
  }
 },
 "nbformat": 4,
 "nbformat_minor": 2
}
