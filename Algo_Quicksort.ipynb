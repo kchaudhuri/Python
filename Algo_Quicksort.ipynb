{
 "cells": [
  {
   "cell_type": "code",
   "execution_count": 1,
   "metadata": {},
   "outputs": [],
   "source": [
    "import random"
   ]
  },
  {
   "cell_type": "code",
   "execution_count": 5,
   "metadata": {},
   "outputs": [],
   "source": [
    "unsorted_list = [ random.randint(1,101) for x in range(10)]"
   ]
  },
  {
   "cell_type": "code",
   "execution_count": 6,
   "metadata": {},
   "outputs": [
    {
     "data": {
      "text/plain": [
       "[11, 56, 11, 81, 62, 57, 17, 90, 13, 26]"
      ]
     },
     "execution_count": 6,
     "metadata": {},
     "output_type": "execute_result"
    }
   ],
   "source": [
    "unsorted_list"
   ]
  },
  {
   "cell_type": "code",
   "execution_count": 7,
   "metadata": {},
   "outputs": [
    {
     "ename": "SyntaxError",
     "evalue": "unexpected EOF while parsing (<ipython-input-7-5fb80df73541>, line 2)",
     "output_type": "error",
     "traceback": [
      "\u001b[1;36m  File \u001b[1;32m\"<ipython-input-7-5fb80df73541>\"\u001b[1;36m, line \u001b[1;32m2\u001b[0m\n\u001b[1;33m    \u001b[0m\n\u001b[1;37m    ^\u001b[0m\n\u001b[1;31mSyntaxError\u001b[0m\u001b[1;31m:\u001b[0m unexpected EOF while parsing\n"
     ]
    }
   ],
   "source": [
    "#def quicksort(list_):\n",
    "    pt1 = 0\n",
    "    pt2 = 0\n",
    "    \n",
    "    pivot = len(list_) - 1\n",
    "    \n",
    "    if list_[p1] < pivot:\n",
    "        p1 += 1\n",
    "        p2 += 1\n",
    "    else:\n",
    "        while list_[p2] > pivot:\n",
    "            p2 += 1\n",
    "        swap(p1,p2)\n",
    "        \n",
    "        if list_[p2] < pivot:\n",
    "            "
   ]
  },
  {
   "cell_type": "code",
   "execution_count": null,
   "metadata": {},
   "outputs": [],
   "source": [
    "quicksort(unsorted_list)"
   ]
  },
  {
   "cell_type": "code",
   "execution_count": null,
   "metadata": {},
   "outputs": [],
   "source": []
  },
  {
   "cell_type": "code",
   "execution_count": null,
   "metadata": {},
   "outputs": [],
   "source": [
    "[62, 78, 69, 4, 97, 88, 35, 68, 77, 61]\n",
    "||                                  |\n",
    "\n",
    "\n"
   ]
  },
  {
   "cell_type": "code",
   "execution_count": 63,
   "metadata": {},
   "outputs": [],
   "source": [
    "def partition(arr,low,high): \n",
    "    \n",
    "    print(low,\"-\",high)\n",
    "    p1, p2 = low, low\n",
    "    \n",
    "    pivot = high\n",
    "    \n",
    "    while p2 < high:\n",
    "        if arr[p1] < arr[pivot]:\n",
    "            p1 += 1\n",
    "                \n",
    "        else:\n",
    "            \n",
    "            if arr[p2] < arr[pivot]:\n",
    "                arr[p1], arr[p2] = arr[p2], arr[p1]\n",
    "                \n",
    "            else:\n",
    "                p2 += 1\n",
    "    \n",
    "    arr[p1], arr[pivot] = arr[pivot], arr[p1]\n",
    "    \n",
    "    return pivot \n",
    "\n",
    "  \n",
    "# Function to do Quick sort \n",
    "def quickSort(arr,low,high): \n",
    "    if low < high: \n",
    "        print('------------')\n",
    "        # pi is partitioning index, arr[p] is now \n",
    "        # at right place \n",
    "        pi = partition(arr,low,high) \n",
    "  \n",
    "        # Separately sort elements before \n",
    "        # partition and after partition \n",
    "        quickSort(arr, low, pi-1) \n",
    "        quickSort(arr, pi+1, high) "
   ]
  },
  {
   "cell_type": "code",
   "execution_count": 64,
   "metadata": {},
   "outputs": [
    {
     "name": "stdout",
     "output_type": "stream",
     "text": [
      "[87, 62, 67, 53, 11, 56, 67, 20, 100, 31]\n",
      "------------\n",
      "0 - 9\n",
      "------------\n",
      "0 - 8\n",
      "------------\n",
      "0 - 7\n",
      "------------\n",
      "0 - 6\n",
      "------------\n",
      "0 - 5\n",
      "------------\n",
      "0 - 4\n",
      "------------\n",
      "0 - 3\n",
      "------------\n",
      "0 - 2\n",
      "------------\n",
      "0 - 1\n",
      "[11, 20, 31, 53, 56, 62, 67, 87, 100, 67]\n"
     ]
    }
   ],
   "source": [
    "unsorted_list = [ random.randint(1,101) for x in range(10)]\n",
    "print(unsorted_list)\n",
    "quickSort(unsorted_list, 0, len(unsorted_list)-1)\n",
    "print(unsorted_list)"
   ]
  },
  {
   "cell_type": "code",
   "execution_count": null,
   "metadata": {},
   "outputs": [],
   "source": []
  }
 ],
 "metadata": {
  "kernelspec": {
   "display_name": "Python 3",
   "language": "python",
   "name": "python3"
  },
  "language_info": {
   "codemirror_mode": {
    "name": "ipython",
    "version": 3
   },
   "file_extension": ".py",
   "mimetype": "text/x-python",
   "name": "python",
   "nbconvert_exporter": "python",
   "pygments_lexer": "ipython3",
   "version": "3.6.4"
  }
 },
 "nbformat": 4,
 "nbformat_minor": 2
}
