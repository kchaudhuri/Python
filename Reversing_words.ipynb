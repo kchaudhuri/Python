{
 "cells": [
  {
   "cell_type": "code",
   "execution_count": null,
   "metadata": {},
   "outputs": [],
   "source": [
    "class Solution(object):\n",
    "    def reverseWords(self, str):\n",
    "        \"\"\"\n",
    "        :type str: List[str]\n",
    "        :rtype: void Do not return anything, modify str in-place instead.\n",
    "        \"\"\"\n",
    "        start, end = 0, len(str) - 1\n",
    "        \n",
    "        while start < end:\n",
    "            # This is the regular in-place string reversal\n",
    "            str[start], str[end] = str[end], str[start]\n",
    "            start, end = start + 1, end - 1\n",
    "                    \n",
    "        start = 0\n",
    "        while start < len(str):\n",
    "            end = start + 1\n",
    "            while end < len(str) and str[end] != ' ':\n",
    "                # Find a space character (or the end of the string)\n",
    "                end += 1\n",
    "            \n",
    "            # This is the index of the end of the current word\n",
    "            word_end = end - 1\n",
    "            \n",
    "            while start < word_end:\n",
    "                # Reverse the word\n",
    "                str[start], str[word_end] = str[word_end], str[start]\n",
    "                start, word_end = start + 1, word_end - 1\n",
    "            \n",
    "            # This is the index of the next word\n",
    "            start = end + 1"
   ]
  }
 ],
 "metadata": {
  "kernelspec": {
   "display_name": "Python 3",
   "language": "python",
   "name": "python3"
  },
  "language_info": {
   "codemirror_mode": {
    "name": "ipython",
    "version": 3
   },
   "file_extension": ".py",
   "mimetype": "text/x-python",
   "name": "python",
   "nbconvert_exporter": "python",
   "pygments_lexer": "ipython3",
   "version": "3.6.4"
  }
 },
 "nbformat": 4,
 "nbformat_minor": 2
}
