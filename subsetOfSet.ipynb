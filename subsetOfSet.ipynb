{
 "cells": [
  {
   "cell_type": "code",
   "execution_count": 5,
   "metadata": {},
   "outputs": [],
   "source": [
    "fruits = 'apple,orange,mango,banana,orange,mango'"
   ]
  },
  {
   "cell_type": "code",
   "execution_count": 68,
   "metadata": {},
   "outputs": [],
   "source": [
    "def subset(master):\n",
    "    \n",
    "    temp = master.split(',')\n",
    "    long, vl = [],[]\n",
    "    \n",
    "    for x in range(len(temp)):\n",
    "        #print(x)\n",
    "        for i in range(x,len(temp)+1):\n",
    "            short = []\n",
    "            for j in range(x,i):\n",
    "                short.append(temp[j])\n",
    "            long.append(','.join(short))\n",
    "    while \"\" in long:\n",
    "        long.remove(\"\")\n",
    "   \n",
    "    return long"
   ]
  },
  {
   "cell_type": "code",
   "execution_count": 69,
   "metadata": {},
   "outputs": [
    {
     "data": {
      "text/plain": [
       "['apple',\n",
       " 'apple,orange',\n",
       " 'apple,orange,mango',\n",
       " 'apple,orange,mango,banana',\n",
       " 'apple,orange,mango,banana,orange',\n",
       " 'apple,orange,mango,banana,orange,mango',\n",
       " 'orange',\n",
       " 'orange,mango',\n",
       " 'orange,mango,banana',\n",
       " 'orange,mango,banana,orange',\n",
       " 'orange,mango,banana,orange,mango',\n",
       " 'mango',\n",
       " 'mango,banana',\n",
       " 'mango,banana,orange',\n",
       " 'mango,banana,orange,mango',\n",
       " 'banana',\n",
       " 'banana,orange',\n",
       " 'banana,orange,mango',\n",
       " 'orange',\n",
       " 'orange,mango',\n",
       " 'mango']"
      ]
     },
     "execution_count": 69,
     "metadata": {},
     "output_type": "execute_result"
    }
   ],
   "source": [
    "subset(fruits)"
   ]
  },
  {
   "cell_type": "code",
   "execution_count": null,
   "metadata": {},
   "outputs": [],
   "source": []
  }
 ],
 "metadata": {
  "kernelspec": {
   "display_name": "Python 3",
   "language": "python",
   "name": "python3"
  },
  "language_info": {
   "codemirror_mode": {
    "name": "ipython",
    "version": 3
   },
   "file_extension": ".py",
   "mimetype": "text/x-python",
   "name": "python",
   "nbconvert_exporter": "python",
   "pygments_lexer": "ipython3",
   "version": "3.6.4"
  }
 },
 "nbformat": 4,
 "nbformat_minor": 2
}
