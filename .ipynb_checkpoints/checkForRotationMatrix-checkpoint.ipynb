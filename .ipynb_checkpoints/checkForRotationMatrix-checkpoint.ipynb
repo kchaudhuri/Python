{
 "cells": [
  {
   "cell_type": "code",
   "execution_count": null,
   "metadata": {},
   "outputs": [],
   "source": [
    "# Implement your function below.\n",
    "def is_rotation(list1, list2):\n",
    "    start = -1\n",
    "    res = False\n",
    "    for i in range(len(list2)):\n",
    "        if list2[i] == list1[0]:\n",
    "            start = i\n",
    "    if list1 == list2[start:]+list2[:start]:\n",
    "        res = True\n",
    "        \n",
    "    return res\n"
   ]
  },
  {
   "cell_type": "code",
   "execution_count": null,
   "metadata": {},
   "outputs": [],
   "source": [
    "# NOTE: The following input values will be used for testing your solution.\n",
    "list1 = [1, 2, 3, 4, 5, 6, 7]\n",
    "list2a = [4, 5, 6, 7, 8, 1, 2, 3]\n",
    "# is_rotation(list1, list2a) should return False.\n",
    "list2b = [4, 5, 6, 7, 1, 2, 3]\n",
    "# is_rotation(list1, list2b) should return True.\n",
    "list2c = [4, 5, 6, 9, 1, 2, 3]\n",
    "# is_rotation(list1, list2c) should return False.\n",
    "list2d = [4, 6, 5, 7, 1, 2, 3]\n",
    "# is_rotation(list1, list2d) should return False.\n",
    "list2e = [4, 5, 6, 7, 0, 2, 3]\n",
    "# is_rotation(list1, list2e) should return False.\n",
    "list2f = [1, 2, 3, 4, 5, 6, 7]\n",
    "# is_rotation(list1, list2f) should return True."
   ]
  }
 ],
 "metadata": {
  "kernelspec": {
   "display_name": "Python 3",
   "language": "python",
   "name": "python3"
  },
  "language_info": {
   "codemirror_mode": {
    "name": "ipython",
    "version": 3
   },
   "file_extension": ".py",
   "mimetype": "text/x-python",
   "name": "python",
   "nbconvert_exporter": "python",
   "pygments_lexer": "ipython3",
   "version": "3.6.4"
  }
 },
 "nbformat": 4,
 "nbformat_minor": 2
}
