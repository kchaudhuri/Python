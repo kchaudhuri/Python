{
 "cells": [
  {
   "cell_type": "markdown",
   "metadata": {},
   "source": [
    "Write Number in Expanded Form\n",
    "You will be given a number and you will need to return it as a string in Expanded Form. For example:\n",
    "\n",
    "expanded_form(12) # Should return '10 + 2'\n",
    "expanded_form(42) # Should return '40 + 2'\n",
    "expanded_form(70304) # Should return '70000 + 300 + 4'\n",
    "NOTE: All numbers will be whole numbers greater than 0."
   ]
  },
  {
   "cell_type": "code",
   "execution_count": null,
   "metadata": {
    "collapsed": true
   },
   "outputs": [],
   "source": [
    "def expanded_form(num):\n",
    "    \n",
    "    final = []\n",
    "    for n in range(len(str(num))):\n",
    "        sel = num % (10**(n+1))\n",
    "        final.append((sel//(10**(n))) *(10**(n)))\n",
    "        \n",
    "    final.reverse()\n",
    "        \n",
    "    answer = ''\n",
    "    for i in range(len(final)):\n",
    "        \n",
    "        if final[i] is 0:\n",
    "            pass\n",
    "        else:\n",
    "            if i != 0:\n",
    "                answer = answer + ' + '\n",
    "            answer = answer + str(final[i])\n",
    "            \n",
    "        \n",
    "    return answer"
   ]
  },
  {
   "cell_type": "code",
   "execution_count": null,
   "metadata": {
    "collapsed": true
   },
   "outputs": [],
   "source": [
    "test.assert_equals(expanded_form(12), '10 + 2');\n",
    "test.assert_equals(expanded_form(42), '40 + 2');\n",
    "test.assert_equals(expanded_form(70304), '70000 + 300 + 4');\n",
    "test.assert_equals(expanded_form(9000000), '9000000');"
   ]
  }
 ],
 "metadata": {
  "kernelspec": {
   "display_name": "Python 3",
   "language": "python",
   "name": "python3"
  },
  "language_info": {
   "codemirror_mode": {
    "name": "ipython",
    "version": 3
   },
   "file_extension": ".py",
   "mimetype": "text/x-python",
   "name": "python",
   "nbconvert_exporter": "python",
   "pygments_lexer": "ipython3",
   "version": "3.6.1"
  }
 },
 "nbformat": 4,
 "nbformat_minor": 2
}
