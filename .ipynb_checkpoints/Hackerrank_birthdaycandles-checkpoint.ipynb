{
 "cells": [
  {
   "cell_type": "markdown",
   "metadata": {},
   "source": [
    "You are in-charge of the cake for your niece's birthday and have decided the cake will have one candle for each year of her total age. When she blows out the candles, she’ll only be able to blow out the tallest ones.\n",
    "\n",
    "For example, if your niece is turning 4 years old, and the cake will have 4 candles of height 3, 2, 1, 3  she will be able to blow out 2 candles successfully, since the tallest candle is of height  and there are  such candles.\n",
    "\n",
    "Complete the function birthdayCakeCandles that takes your niece's age and an integer array containing height of each candle as input, and return the number of candles she can successfully blow out."
   ]
  },
  {
   "cell_type": "code",
   "execution_count": null,
   "metadata": {},
   "outputs": [],
   "source": [
    "import os\n",
    "import sys\n",
    "\n",
    "#\n",
    "# Complete the birthdayCakeCandles function below.\n",
    "#\n",
    "def birthdayCakeCandles(n, ar):\n",
    "    #\n",
    "    # Write your code here.\n",
    "    #\n",
    "    count = 0\n",
    "    blow = max(ar)\n",
    "    for i in ar:\n",
    "        if i == blow:\n",
    "            count += 1\n",
    "    \n",
    "    return count\n",
    "\n",
    "if __name__ == '__main__':\n",
    "    f = open(os.environ['OUTPUT_PATH'], 'w')\n",
    "\n",
    "    n = int(input())\n",
    "\n",
    "    ar = list(map(int, input().rstrip().split()))\n",
    "\n",
    "    result = birthdayCakeCandles(n, ar)\n",
    "\n",
    "    f.write(str(result) + '\\n')\n",
    "\n",
    "    f.close()"
   ]
  }
 ],
 "metadata": {
  "kernelspec": {
   "display_name": "Python 3",
   "language": "python",
   "name": "python3"
  },
  "language_info": {
   "codemirror_mode": {
    "name": "ipython",
    "version": 3
   },
   "file_extension": ".py",
   "mimetype": "text/x-python",
   "name": "python",
   "nbconvert_exporter": "python",
   "pygments_lexer": "ipython3",
   "version": "3.6.4"
  }
 },
 "nbformat": 4,
 "nbformat_minor": 2
}
