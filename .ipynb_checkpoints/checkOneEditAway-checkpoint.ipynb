{
 "cells": [
  {
   "cell_type": "code",
   "execution_count": null,
   "metadata": {},
   "outputs": [],
   "source": [
    "# Implement your function below.\n",
    "\n",
    "def check(s1,s2):\n",
    "    count = 0\n",
    "    if len(s1) - len(s2) > 1:\n",
    "        return False\n",
    "    elif len(s1) - len(s2) == 0:\n",
    "        i = 0\n",
    "        j = 0\n",
    "        while i < len(s1) and j < len(s2):\n",
    "            if s1[i] == s2[j]:\n",
    "                i += 1\n",
    "                j += 1\n",
    "            else:\n",
    "                i += 1\n",
    "                j += 1\n",
    "                count += 1\n",
    "                if count > 1:\n",
    "                    return False\n",
    "    else:\n",
    "        i = 0\n",
    "        j = 0\n",
    "        while i < len(s1) and j < len(s2):\n",
    "            if s1[i] == s2[j]:\n",
    "                i += 1\n",
    "                j += 1\n",
    "            else:\n",
    "                i += 1\n",
    "                count += 1\n",
    "                if count > 1:\n",
    "                    return False\n",
    "            \n",
    "    return True\n",
    "    \n",
    "def is_one_away(s1, s2):\n",
    "    if len(s1) > len(s2):\n",
    "        res = check(s1,s2)\n",
    "    else:\n",
    "        res = check(s2,s1)\n",
    "    return res\n",
    "\n"
   ]
  },
  {
   "cell_type": "code",
   "execution_count": null,
   "metadata": {},
   "outputs": [],
   "source": [
    "# NOTE: The following input values will be used for testing your solution.\n",
    "is_one_away(\"abcde\", \"abcd\")  # should return True\n",
    "is_one_away(\"abde\", \"abcde\")  # should return True\n",
    "is_one_away(\"a\", \"a\")  # should return True\n",
    "is_one_away(\"abcdef\", \"abqdef\")  # should return True\n",
    "is_one_away(\"abcdef\", \"abccef\")  # should return True\n",
    "is_one_away(\"abcdef\", \"abcde\")  # should return True\n",
    "is_one_away(\"aaa\", \"abc\")  # should return False\n",
    "is_one_away(\"abcde\", \"abc\")  # should return False\n",
    "is_one_away(\"abc\", \"abcde\")  # should return False\n",
    "is_one_away(\"abc\", \"bcc\")  # should return False"
   ]
  }
 ],
 "metadata": {
  "kernelspec": {
   "display_name": "Python 3",
   "language": "python",
   "name": "python3"
  },
  "language_info": {
   "codemirror_mode": {
    "name": "ipython",
    "version": 3
   },
   "file_extension": ".py",
   "mimetype": "text/x-python",
   "name": "python",
   "nbconvert_exporter": "python",
   "pygments_lexer": "ipython3",
   "version": "3.6.4"
  }
 },
 "nbformat": 4,
 "nbformat_minor": 2
}
