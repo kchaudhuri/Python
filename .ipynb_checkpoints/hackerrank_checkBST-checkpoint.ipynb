{
 "cells": [
  {
   "cell_type": "markdown",
   "metadata": {},
   "source": [
    "For the purposes of this challenge, we define a binary search tree to be a binary tree with the following ordering properties:\n",
    "\n",
    "The data value of every node in a node's left subtree is less than the data value of that node.\n",
    "The data value of every node in a node's right subtree is greater than the data value of that node.\n",
    "Given the root node of a binary tree, can you determine if it's also a binary search tree?\n",
    "\n",
    "Complete the function in your editor below, which has 1 parameter: a pointer to the root of a binary tree. It must return a boolean denoting whether or not the binary tree is a binary search tree. You may have to write one or more helper functions to complete this challenge."
   ]
  },
  {
   "cell_type": "code",
   "execution_count": null,
   "metadata": {},
   "outputs": [],
   "source": [
    "\"\"\" Node is defined as\n",
    "class node:\n",
    "    def __init__(self, data):\n",
    "        self.data = data\n",
    "        self.left = None\n",
    "        self.right = None\n",
    "\"\"\"\n",
    "\n",
    "def checkBST(root):\n",
    "    return (isBSTUtil(root, 0, 10**4))\n",
    " \n",
    "def isBSTUtil(root, minn, maxx):\n",
    "     \n",
    "    if root is None:\n",
    "        return True\n",
    "    if root.data < minn or root.data > maxx:\n",
    "        return False\n",
    "    return (isBSTUtil(root.left, minn, root.data -1) and\n",
    "          isBSTUtil(root.right, root.data+1, maxx))"
   ]
  }
 ],
 "metadata": {
  "kernelspec": {
   "display_name": "Python 3",
   "language": "python",
   "name": "python3"
  },
  "language_info": {
   "codemirror_mode": {
    "name": "ipython",
    "version": 3
   },
   "file_extension": ".py",
   "mimetype": "text/x-python",
   "name": "python",
   "nbconvert_exporter": "python",
   "pygments_lexer": "ipython3",
   "version": "3.6.4"
  }
 },
 "nbformat": 4,
 "nbformat_minor": 2
}
