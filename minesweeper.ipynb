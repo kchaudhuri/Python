{
 "cells": [
  {
   "cell_type": "code",
   "execution_count": 4,
   "metadata": {},
   "outputs": [],
   "source": [
    "def minesweeper(bombs, num_rows, num_cols):\n",
    "    field = [[0 for i in range(num_cols)] for j in range(num_rows)]\n",
    "    \n",
    "    for bomb in bombs:\n",
    "        [r, c] = bomb\n",
    "        field[r][c] = -1\n",
    "        for x in range(r-1,r+2):\n",
    "            for y in range(c-1,c+2):\n",
    "                if ((x >= 0 and x < num_rows) and (y >= 0 and y < num_cols) and (field[x][y] != -1)):\n",
    "                    field[x][y] += 1\n",
    "    return field\n",
    "    "
   ]
  },
  {
   "cell_type": "code",
   "execution_count": 6,
   "metadata": {},
   "outputs": [],
   "source": [
    "res = minesweeper([[0, 2], [2, 0]], 3, 3)"
   ]
  },
  {
   "cell_type": "code",
   "execution_count": 9,
   "metadata": {},
   "outputs": [],
   "source": [
    "def to_string(given_array):\n",
    "    list_rows = []\n",
    "    for row in given_array:\n",
    "        list_rows.append(str(row))\n",
    "    print('[' + ',\\n '.join(list_rows) + ']')"
   ]
  },
  {
   "cell_type": "code",
   "execution_count": 10,
   "metadata": {},
   "outputs": [
    {
     "name": "stdout",
     "output_type": "stream",
     "text": [
      "[[0, 1, -1],\n",
      " [1, 2, 1],\n",
      " [-1, 1, 0]]\n"
     ]
    }
   ],
   "source": [
    "to_string(res)"
   ]
  },
  {
   "cell_type": "code",
   "execution_count": null,
   "metadata": {},
   "outputs": [],
   "source": []
  }
 ],
 "metadata": {
  "kernelspec": {
   "display_name": "Python 3",
   "language": "python",
   "name": "python3"
  },
  "language_info": {
   "codemirror_mode": {
    "name": "ipython",
    "version": 3
   },
   "file_extension": ".py",
   "mimetype": "text/x-python",
   "name": "python",
   "nbconvert_exporter": "python",
   "pygments_lexer": "ipython3",
   "version": "3.6.4"
  }
 },
 "nbformat": 4,
 "nbformat_minor": 2
}
