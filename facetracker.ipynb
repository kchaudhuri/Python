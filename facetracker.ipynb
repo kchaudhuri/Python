{
 "cells": [
  {
   "cell_type": "code",
   "execution_count": 1,
   "metadata": {},
   "outputs": [],
   "source": [
    "import numpy as np\n",
    "import cv2"
   ]
  },
  {
   "cell_type": "code",
   "execution_count": 2,
   "metadata": {},
   "outputs": [],
   "source": [
    "face_cascade = cv2.CascadeClassifier('haarcascades/haarcascade_frontalface_alt.xml')"
   ]
  },
  {
   "cell_type": "code",
   "execution_count": 3,
   "metadata": {},
   "outputs": [],
   "source": [
    "cap = cv2.VideoCapture(0)"
   ]
  },
  {
   "cell_type": "code",
   "execution_count": null,
   "metadata": {},
   "outputs": [],
   "source": [
    "cap = cv2.VideoCapture(0)\n",
    "\n",
    "center_acc = 10\n",
    "\n",
    "while(True):\n",
    "    # Capture frame-by-frame\n",
    "    ret, frame = cap.read()\n",
    "    \n",
    "    height, width = frame.shape[:2]\n",
    "    res = cv2.resize(frame,(int(width), int(height)), interpolation = cv2.INTER_CUBIC)\n",
    "    \n",
    "    # Our operations on the frame come here\n",
    "    #gray = cv2.cvtColor(frame, cv2.COLOR_BGR2GRAY)\n",
    "    \n",
    "    # find faces in image\n",
    "    faces = face_cascade.detectMultiScale(res)\n",
    "\n",
    "    #print number of faces detected in the image\n",
    "    #print('Number of faces detected:', len(faces))\n",
    "    #print(\"{0},{1}\".format(width/2,height/2))\n",
    "    \n",
    "    cv2.rectangle(res,(320,240),(320,240),(255,255,255),2)\n",
    "    # get bounding box for each detected face\n",
    "    for (x,y,w,h) in faces:\n",
    "        # add bounding box to color image\n",
    "        #cv2.rectangle(res,(x,y),(x+w,y+h),(0,0,0),2)\n",
    "        #print(\"x-{0},y-{1}\".format((x+(w/2)),(y+(h/2))))\n",
    "        x_cob,y_cob = (x+(w/2)),(y+(h/2))\n",
    "        if ((x_cob > ((width/2)-center_acc)) and (x_cob < ((width/2)+center_acc)) and (y_cob > ((height/2)-center_acc)) and (y_cob < ((height/2)+center_acc))):\n",
    "            cv2.circle(res,(int(x_cob),int(y_cob)), int(w/2), (0,0,255), 5)\n",
    "            cv2.rectangle(res,(x,y),(x+w,y+h),(0,255,0),2) #BGR format\n",
    "        else:\n",
    "            cv2.circle(res,(int(x_cob),int(y_cob)), int(w/2), (0,0,0), 5)\n",
    "            cv2.rectangle(res,(x,y),(x+w,y+h),(0,0,0),2)\n",
    "        \n",
    "        #if (((x+(w/2)) == (width/2)) and ((y+(h/2)) == (height/2))):\n",
    "            #print(\"x-{0},y-{1},w-{2},h-{3}\".format(x,y,w,h))\n",
    "    \n",
    "    # convert BGR image to RGB for plotting\n",
    "    #cv_rgb = cv2.cvtColor(res, cv2.COLOR_BGR2RGB)\n",
    "\n",
    "    \n",
    "    # Display the resulting frame\n",
    "    cv2.imshow('frame',cv2.flip(res,1))\n",
    "    if cv2.waitKey(1) & 0xFF == ord('q'):\n",
    "        break\n",
    "\n",
    "# When everything done, release the capture\n",
    "cap.release()\n",
    "cv2.destroyAllWindows()"
   ]
  },
  {
   "cell_type": "code",
   "execution_count": 4,
   "metadata": {},
   "outputs": [],
   "source": [
    "cap.release()\n",
    "cv2.destroyAllWindows()"
   ]
  },
  {
   "cell_type": "code",
   "execution_count": null,
   "metadata": {
    "collapsed": true
   },
   "outputs": [],
   "source": []
  }
 ],
 "metadata": {
  "kernelspec": {
   "display_name": "Python 3",
   "language": "python",
   "name": "python3"
  },
  "language_info": {
   "codemirror_mode": {
    "name": "ipython",
    "version": 3
   },
   "file_extension": ".py",
   "mimetype": "text/x-python",
   "name": "python",
   "nbconvert_exporter": "python",
   "pygments_lexer": "ipython3",
   "version": "3.6.4"
  }
 },
 "nbformat": 4,
 "nbformat_minor": 2
}
