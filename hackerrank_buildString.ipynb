{
 "cells": [
  {
   "cell_type": "code",
   "execution_count": 1,
   "metadata": {},
   "outputs": [],
   "source": [
    "a = 'apple'"
   ]
  },
  {
   "cell_type": "code",
   "execution_count": 4,
   "metadata": {},
   "outputs": [
    {
     "data": {
      "text/plain": [
       "False"
      ]
     },
     "execution_count": 4,
     "metadata": {},
     "output_type": "execute_result"
    }
   ],
   "source": [
    "'pap' in a"
   ]
  },
  {
   "cell_type": "code",
   "execution_count": null,
   "metadata": {},
   "outputs": [],
   "source": [
    "#!/bin/python3\n",
    "\n",
    "import os\n",
    "import sys\n",
    "\n",
    "#\n",
    "# Complete the buildString function below.\n",
    "#\n",
    "def buildString(a, b, s):\n",
    "    #\n",
    "    # Write your code here.\n",
    "    #\n",
    "    si = ''\n",
    "    cost = 0\n",
    "    f = 0\n",
    "    while f < len(s):\n",
    "        if s[f:f+2] in si:\n",
    "            step = 2\n",
    "            temp = ''\n",
    "            for j in range(2,len(s) - f +1):\n",
    "                if s[f:f+j] in si:\n",
    "                    temp = s[f:f+j]\n",
    "                    step = j\n",
    "                else:\n",
    "                    break\n",
    "            si += temp\n",
    "            #print(\"{} -> {}\".format(temp, b)) ##\n",
    "            cost += b \n",
    "            f=f+step\n",
    "        else:\n",
    "            si += s[f]\n",
    "            #print(\"{} -> {}\".format(s[f], a)) ##\n",
    "            cost += a\n",
    "            f=f+1\n",
    "    #print(cost) ##\n",
    "    #print(\"-----------------------\") ##\n",
    "    return str(cost)\n",
    "\n",
    "if __name__ == '__main__':\n",
    "    fptr = open(os.environ['OUTPUT_PATH'], 'w')\n",
    "\n",
    "    t = int(input())\n",
    "\n",
    "    for t_itr in range(t):\n",
    "        nab = input().split()\n",
    "\n",
    "        n = int(nab[0])\n",
    "\n",
    "        a = int(nab[1])\n",
    "\n",
    "        b = int(nab[2])\n",
    "\n",
    "        s = input()\n",
    "\n",
    "        result = buildString(a, b, s)\n",
    "\n",
    "    fptr.close()"
   ]
  }
 ],
 "metadata": {
  "kernelspec": {
   "display_name": "Python 3",
   "language": "python",
   "name": "python3"
  },
  "language_info": {
   "codemirror_mode": {
    "name": "ipython",
    "version": 3
   },
   "file_extension": ".py",
   "mimetype": "text/x-python",
   "name": "python",
   "nbconvert_exporter": "python",
   "pygments_lexer": "ipython3",
   "version": "3.6.4"
  }
 },
 "nbformat": 4,
 "nbformat_minor": 2
}
