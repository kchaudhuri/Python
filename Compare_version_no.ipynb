{
 "cells": [
  {
   "cell_type": "markdown",
   "metadata": {},
   "source": [
    "Input: version1 = \"0.1\", version2 = \"1.1\"\n",
    "Output: -1"
   ]
  },
  {
   "cell_type": "markdown",
   "metadata": {},
   "source": [
    "Input: version1 = \"1.0.1\", version2 = \"1\"\n",
    "Output: 1"
   ]
  },
  {
   "cell_type": "markdown",
   "metadata": {},
   "source": [
    "Input: version1 = \"7.5.2.4\", version2 = \"7.5.3\"\n",
    "Output: -1"
   ]
  },
  {
   "cell_type": "code",
   "execution_count": null,
   "metadata": {},
   "outputs": [],
   "source": [
    "class Solution:\n",
    "    def compareVersion(self, version1, version2):\n",
    "        \"\"\"\n",
    "        :type version1: str\n",
    "        :type version2: str\n",
    "        :rtype: int\n",
    "        \"\"\"\n",
    "        v1 = list(map(int, version1.split(\".\")))\n",
    "        v2 = list(map(int, version2.split(\".\")))\n",
    "        \n",
    "        ms = 0\n",
    "        \n",
    "        if len(v1) > len(v2):\n",
    "            mxs = len(v1)\n",
    "            mns = len(v2)\n",
    "            \n",
    "            for i in range(mxs-mns):\n",
    "                v2.append(0)\n",
    "        \n",
    "        elif len(v1) < len(v2):\n",
    "            \n",
    "            mxs = len(v2)\n",
    "            mns = len(v1)\n",
    "            \n",
    "            for i in range(mxs-mns):\n",
    "                v1.append(0)\n",
    "        \n",
    "        else:\n",
    "            pass\n",
    "        \n",
    "        \n",
    "        v1 = list(map(str, v1))\n",
    "        v2 = list(map(str, v2))\n",
    "        \n",
    "        \n",
    "        if int(\"\".join(v1)) > int(\"\".join(v2)):\n",
    "            return 1\n",
    "        elif int(\"\".join(v1)) < int(\"\".join(v2)):\n",
    "            return -1\n",
    "        else:\n",
    "            return 0"
   ]
  }
 ],
 "metadata": {
  "kernelspec": {
   "display_name": "Python 3",
   "language": "python",
   "name": "python3"
  },
  "language_info": {
   "codemirror_mode": {
    "name": "ipython",
    "version": 3
   },
   "file_extension": ".py",
   "mimetype": "text/x-python",
   "name": "python",
   "nbconvert_exporter": "python",
   "pygments_lexer": "ipython3",
   "version": "3.6.4"
  }
 },
 "nbformat": 4,
 "nbformat_minor": 2
}
