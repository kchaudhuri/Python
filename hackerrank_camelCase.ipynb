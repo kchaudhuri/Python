{
 "cells": [
  {
   "cell_type": "markdown",
   "metadata": {},
   "source": [
    "Alice wrote a sequence of words in CamelCase as a string of letters,s , having the following properties:\n",
    "\n",
    "It is a concatenation of one or more words consisting of English letters.\n",
    "All letters in the first word are lowercase.\n",
    "For each of the subsequent words, the first letter is uppercase and rest of the letters are lowercase.\n",
    "Given s, print the number of words in s on a new line\n",
    "\n",
    "Sample Input -\n",
    "saveChangesInTheEditor\n",
    "\n",
    "Sample Output -\n",
    "5"
   ]
  },
  {
   "cell_type": "code",
   "execution_count": null,
   "metadata": {},
   "outputs": [],
   "source": [
    "#!/bin/python3\n",
    "\n",
    "import sys\n",
    "\n",
    "def camelcase(s):\n",
    "    # Complete this function\n",
    "    count = 0\n",
    "    for i in range(len(s)):\n",
    "        if (i == 0 and s[i] == s[i].lower()):\n",
    "            count += 1\n",
    "        if s[i] == s[i].upper():\n",
    "            count += 1\n",
    "            \n",
    "    return count\n",
    "\n",
    "if __name__ == \"__main__\":\n",
    "    s = input().strip()\n",
    "    result = camelcase(s)\n",
    "    print(result)"
   ]
  }
 ],
 "metadata": {
  "kernelspec": {
   "display_name": "Python 3",
   "language": "python",
   "name": "python3"
  },
  "language_info": {
   "codemirror_mode": {
    "name": "ipython",
    "version": 3
   },
   "file_extension": ".py",
   "mimetype": "text/x-python",
   "name": "python",
   "nbconvert_exporter": "python",
   "pygments_lexer": "ipython3",
   "version": "3.6.4"
  }
 },
 "nbformat": 4,
 "nbformat_minor": 2
}
