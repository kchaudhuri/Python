{
 "cells": [
  {
   "cell_type": "code",
   "execution_count": null,
   "metadata": {},
   "outputs": [],
   "source": [
    "import copy\n",
    "\n",
    "\n",
    "# Implement your function below.\n",
    "# n = # rows = # columns in the given 2d array\n",
    "def rotate(given_array, n):\n",
    "    rotated = copy.deepcopy(given_array)\n",
    "    # NOTE: To solve it in place, write this function so that you\n",
    "    # won't have to create rotated.\n",
    "    for i in range(n):\n",
    "        for j in range(n):\n",
    "            rotated[j][i] = given_array[i][j]\n",
    "    print(rotated)\n",
    "    \n",
    "    for i in range(n):\n",
    "        given_array[i] = rotated[i][::-1]\n",
    "        \n",
    "    print(given_array) \n",
    "    return given_array\n",
    "\n",
    "\n"
   ]
  },
  {
   "cell_type": "code",
   "execution_count": null,
   "metadata": {},
   "outputs": [],
   "source": [
    "# NOTE: Feel free to use the following function for testing.\n",
    "# It converts a 2-dimensional array (a list of lists) into\n",
    "# an easy-to-read string format.\n",
    "def to_string(given_array):\n",
    "    list_rows = []\n",
    "    for row in given_array:\n",
    "        list_rows.append(str(row))\n",
    "    return '[' + ',\\n '.join(list_rows) + ']'\n",
    "\n",
    "\n",
    "# NOTE: The following input values will be used for testing your solution.\n",
    "a1 = [[1, 2, 3],\n",
    "      [4, 5, 6],\n",
    "      [7, 8, 9]]\n",
    "# rotate(a1, 3) should return:\n",
    "# [[7, 4, 1],\n",
    "#  [8, 5, 2],\n",
    "#  [9, 6, 3]]\n",
    "\n",
    "a2 = [[1, 2, 3, 4],\n",
    "      [5, 6, 7, 8],\n",
    "      [9, 10, 11, 12],\n",
    "      [13, 14, 15, 16]]\n",
    "# rotate(a2, 4) should return:\n",
    "# [[13, 9, 5, 1],\n",
    "#  [14, 10, 6, 2],\n",
    "#  [15, 11, 7, 3],\n",
    "#  [16, 12, 8, 4]]\n"
   ]
  }
 ],
 "metadata": {
  "kernelspec": {
   "display_name": "Python 3",
   "language": "python",
   "name": "python3"
  },
  "language_info": {
   "codemirror_mode": {
    "name": "ipython",
    "version": 3
   },
   "file_extension": ".py",
   "mimetype": "text/x-python",
   "name": "python",
   "nbconvert_exporter": "python",
   "pygments_lexer": "ipython3",
   "version": "3.6.4"
  }
 },
 "nbformat": 4,
 "nbformat_minor": 2
}
