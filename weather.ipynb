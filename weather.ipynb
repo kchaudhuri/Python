{
 "cells": [
  {
   "cell_type": "code",
   "execution_count": 1,
   "metadata": {},
   "outputs": [],
   "source": [
    "from weather import Weather\n",
    "weather = Weather()"
   ]
  },
  {
   "cell_type": "code",
   "execution_count": 8,
   "metadata": {},
   "outputs": [],
   "source": [
    "lookup = weather.lookup(560743)"
   ]
  },
  {
   "cell_type": "code",
   "execution_count": 10,
   "metadata": {},
   "outputs": [
    {
     "name": "stdout",
     "output_type": "stream",
     "text": [
      "<class 'weather.objects.condition_obj.Condition'>\n"
     ]
    }
   ],
   "source": [
    "print(type(lookup.condition))"
   ]
  },
  {
   "cell_type": "code",
   "execution_count": 25,
   "metadata": {},
   "outputs": [
    {
     "ename": "KeyError",
     "evalue": "'item'",
     "output_type": "error",
     "traceback": [
      "\u001b[1;31m---------------------------------------------------------------------------\u001b[0m",
      "\u001b[1;31mKeyError\u001b[0m                                  Traceback (most recent call last)",
      "\u001b[1;32m<ipython-input-25-b6defbd6cc82>\u001b[0m in \u001b[0;36m<module>\u001b[1;34m()\u001b[0m\n\u001b[0;32m      2\u001b[0m \u001b[1;33m\u001b[0m\u001b[0m\n\u001b[0;32m      3\u001b[0m \u001b[0mlookup\u001b[0m \u001b[1;33m=\u001b[0m \u001b[0mweather\u001b[0m\u001b[1;33m.\u001b[0m\u001b[0mlookup\u001b[0m\u001b[1;33m(\u001b[0m\u001b[1;34m'chico'\u001b[0m\u001b[1;33m)\u001b[0m\u001b[1;33m\u001b[0m\u001b[0m\n\u001b[1;32m----> 4\u001b[1;33m \u001b[0mcondition\u001b[0m \u001b[1;33m=\u001b[0m \u001b[0mlookup\u001b[0m\u001b[1;33m.\u001b[0m\u001b[0mcondition\u001b[0m\u001b[1;33m\u001b[0m\u001b[0m\n\u001b[0m\u001b[0;32m      5\u001b[0m \u001b[0mprint\u001b[0m\u001b[1;33m(\u001b[0m\u001b[0mcondition\u001b[0m\u001b[1;33m.\u001b[0m\u001b[0mtext\u001b[0m\u001b[1;33m)\u001b[0m\u001b[1;33m\u001b[0m\u001b[0m\n\u001b[0;32m      6\u001b[0m \u001b[0mprint\u001b[0m\u001b[1;33m(\u001b[0m\u001b[0mcondition\u001b[0m\u001b[1;33m.\u001b[0m\u001b[0mdate\u001b[0m\u001b[1;33m)\u001b[0m\u001b[1;33m\u001b[0m\u001b[0m\n",
      "\u001b[1;32mC:\\Anaconda3\\lib\\site-packages\\weather\\objects\\weather_obj.py\u001b[0m in \u001b[0;36mcondition\u001b[1;34m(self)\u001b[0m\n\u001b[0;32m     40\u001b[0m     \u001b[1;33m@\u001b[0m\u001b[0mproperty\u001b[0m\u001b[1;33m\u001b[0m\u001b[0m\n\u001b[0;32m     41\u001b[0m     \u001b[1;32mdef\u001b[0m \u001b[0mcondition\u001b[0m\u001b[1;33m(\u001b[0m\u001b[0mself\u001b[0m\u001b[1;33m)\u001b[0m\u001b[1;33m:\u001b[0m\u001b[1;33m\u001b[0m\u001b[0m\n\u001b[1;32m---> 42\u001b[1;33m         \u001b[1;32mreturn\u001b[0m \u001b[0mCondition\u001b[0m\u001b[1;33m(\u001b[0m\u001b[0mself\u001b[0m\u001b[1;33m.\u001b[0m\u001b[0m_weather_data\u001b[0m\u001b[1;33m[\u001b[0m\u001b[1;34m'item'\u001b[0m\u001b[1;33m]\u001b[0m\u001b[1;33m[\u001b[0m\u001b[1;34m'condition'\u001b[0m\u001b[1;33m]\u001b[0m\u001b[1;33m)\u001b[0m\u001b[1;33m\u001b[0m\u001b[0m\n\u001b[0m\u001b[0;32m     43\u001b[0m \u001b[1;33m\u001b[0m\u001b[0m\n\u001b[0;32m     44\u001b[0m     \u001b[1;33m@\u001b[0m\u001b[0mproperty\u001b[0m\u001b[1;33m\u001b[0m\u001b[0m\n",
      "\u001b[1;31mKeyError\u001b[0m: 'item'"
     ]
    }
   ],
   "source": [
    "# Lookup WOEID via http://weather.yahoo.com.\n",
    "\n",
    "lookup = weather.lookup('560743')\n",
    "condition = lookup.condition\n",
    "print(condition.text)\n"
   ]
  },
  {
   "cell_type": "code",
   "execution_count": 33,
   "metadata": {},
   "outputs": [
    {
     "name": "stdout",
     "output_type": "stream",
     "text": [
      "Scattered Showers\n",
      "Tue, 10 Apr 2018 12:00 PM PDT\n"
     ]
    }
   ],
   "source": [
    "# Lookup via location name.\n",
    "\n",
    "location = weather.lookup_by_location('chico')\n",
    "condition = location.condition\n",
    "print(condition.text)\n",
    "print(condition.date)"
   ]
  },
  {
   "cell_type": "code",
   "execution_count": 19,
   "metadata": {},
   "outputs": [
    {
     "name": "stdout",
     "output_type": "stream",
     "text": [
      "Sunny\n",
      "11 Apr 2018\n",
      "32\n",
      "23\n",
      "Sunny\n",
      "12 Apr 2018\n",
      "32\n",
      "23\n",
      "Sunny\n",
      "13 Apr 2018\n",
      "32\n",
      "23\n",
      "Sunny\n",
      "14 Apr 2018\n",
      "33\n",
      "24\n",
      "Mostly Sunny\n",
      "15 Apr 2018\n",
      "33\n",
      "24\n",
      "Sunny\n",
      "16 Apr 2018\n",
      "32\n",
      "24\n",
      "Sunny\n",
      "17 Apr 2018\n",
      "32\n",
      "25\n",
      "Sunny\n",
      "18 Apr 2018\n",
      "32\n",
      "25\n",
      "Sunny\n",
      "19 Apr 2018\n",
      "33\n",
      "24\n",
      "Sunny\n",
      "20 Apr 2018\n",
      "32\n",
      "23\n"
     ]
    }
   ],
   "source": [
    "# Get weather forecasts for the upcoming days.\n",
    "\n",
    "forecasts = location.forecast\n",
    "for forecast in forecasts:\n",
    "    print(forecast.text)\n",
    "    print(forecast.date)\n",
    "    print(forecast.high)\n",
    "    print(forecast.low)"
   ]
  },
  {
   "cell_type": "code",
   "execution_count": 34,
   "metadata": {},
   "outputs": [
    {
     "name": "stdout",
     "output_type": "stream",
     "text": [
      "It is Rain on 10 Apr 2018,Tue with:\n",
      "Highest - 18\n",
      "Lowest - 14\n"
     ]
    }
   ],
   "source": [
    "from weather import Weather, Unit\n",
    "\n",
    "location = weather.lookup_by_location('chico')\n",
    "condition = location.condition\n",
    "forecasts = location.forecast\n",
    "for forecast in forecasts:\n",
    "    print(\"It is {0} on {1},{4} with:\\nHighest - {2}\\nLowest - {3}\".format(forecast.text,forecast.date,forecast.high,forecast.low,forecast.day))\n",
    "    break\n",
    "    print(forecast.text)\n",
    "    print(forecast.date)\n",
    "    print(forecast.high)\n",
    "    print(forecast.low)\n",
    "    print(forecast.day)\n",
    "    print(forecast.code)"
   ]
  },
  {
   "cell_type": "code",
   "execution_count": null,
   "metadata": {},
   "outputs": [],
   "source": []
  }
 ],
 "metadata": {
  "kernelspec": {
   "display_name": "Python 3",
   "language": "python",
   "name": "python3"
  },
  "language_info": {
   "codemirror_mode": {
    "name": "ipython",
    "version": 3
   },
   "file_extension": ".py",
   "mimetype": "text/x-python",
   "name": "python",
   "nbconvert_exporter": "python",
   "pygments_lexer": "ipython3",
   "version": "3.6.4"
  }
 },
 "nbformat": 4,
 "nbformat_minor": 2
}
