{
 "cells": [
  {
   "cell_type": "code",
   "execution_count": 7,
   "metadata": {},
   "outputs": [],
   "source": [
    "# Implement your function below.\n",
    "def most_frequent(given_list):\n",
    "    max_count = -1\n",
    "    max_item = None\n",
    "    items = {}\n",
    "    if given_list == None:\n",
    "        return 0\n",
    "    for i in given_list:\n",
    "        if i not in items:\n",
    "            items[i] = 1\n",
    "        else:\n",
    "            items[i] += 1\n",
    "        if max_count < items[i]:\n",
    "            max_count = items[i]\n",
    "            max_item = i\n",
    "            \n",
    "    return max_item"
   ]
  },
  {
   "cell_type": "code",
   "execution_count": 8,
   "metadata": {},
   "outputs": [],
   "source": [
    "# NOTE: The following input values will be used for testing your solution.\n",
    "# most_frequent(list1) should return 1\n",
    "list1 = [1, 3, 1, 3, 2, 1]\n",
    "# most_frequent(list2) should return 3\n",
    "list2 = [3, 3, 1, 3, 2, 1]\n",
    "# most_frequent(list3) should return None\n",
    "list3 = []\n",
    "# most_frequent(list4) should return 0\n",
    "list4 = [0]\n",
    "# most_frequent(list5) should return -1\n",
    "list5 = [0, -1, 10, 10, -1, 10, -1, -1, -1, 1]"
   ]
  },
  {
   "cell_type": "code",
   "execution_count": 9,
   "metadata": {},
   "outputs": [
    {
     "data": {
      "text/plain": [
       "1"
      ]
     },
     "execution_count": 9,
     "metadata": {},
     "output_type": "execute_result"
    }
   ],
   "source": [
    "most_frequent(list1)"
   ]
  },
  {
   "cell_type": "code",
   "execution_count": null,
   "metadata": {},
   "outputs": [],
   "source": []
  }
 ],
 "metadata": {
  "kernelspec": {
   "display_name": "Python 3",
   "language": "python",
   "name": "python3"
  },
  "language_info": {
   "codemirror_mode": {
    "name": "ipython",
    "version": 3
   },
   "file_extension": ".py",
   "mimetype": "text/x-python",
   "name": "python",
   "nbconvert_exporter": "python",
   "pygments_lexer": "ipython3",
   "version": "3.6.4"
  }
 },
 "nbformat": 4,
 "nbformat_minor": 2
}
