{
 "cells": [
  {
   "cell_type": "code",
   "execution_count": 1,
   "metadata": {
    "collapsed": true
   },
   "outputs": [],
   "source": [
    "class Animals:\n",
    "    def quack(self):\n",
    "        return self.strings['quack']\n",
    "    def bark(self):\n",
    "        return self.strings['bark']"
   ]
  },
  {
   "cell_type": "code",
   "execution_count": 3,
   "metadata": {
    "collapsed": true
   },
   "outputs": [],
   "source": [
    "class Dog(Animals):\n",
    "    strings = dict(bark = \"dog can bark\")"
   ]
  },
  {
   "cell_type": "code",
   "execution_count": 4,
   "metadata": {
    "collapsed": true
   },
   "outputs": [],
   "source": [
    "class Duck(Animals):\n",
    "    strings = dict(quack = \"duck can quack\")"
   ]
  },
  {
   "cell_type": "code",
   "execution_count": 5,
   "metadata": {
    "collapsed": true
   },
   "outputs": [],
   "source": [
    "def main():\n",
    "    donald = Duck()"
   ]
  },
  {
   "cell_type": "code",
   "execution_count": 6,
   "metadata": {
    "collapsed": true
   },
   "outputs": [],
   "source": [
    "import seaborn"
   ]
  },
  {
   "cell_type": "code",
   "execution_count": 7,
   "metadata": {
    "collapsed": true
   },
   "outputs": [],
   "source": [
    "import IPython"
   ]
  },
  {
   "cell_type": "code",
   "execution_count": 8,
   "metadata": {
    "collapsed": true
   },
   "outputs": [],
   "source": [
    "comp = [i for i in range(100)]"
   ]
  },
  {
   "cell_type": "code",
   "execution_count": 9,
   "metadata": {},
   "outputs": [
    {
     "data": {
      "text/plain": [
       "[0,\n",
       " 1,\n",
       " 2,\n",
       " 3,\n",
       " 4,\n",
       " 5,\n",
       " 6,\n",
       " 7,\n",
       " 8,\n",
       " 9,\n",
       " 10,\n",
       " 11,\n",
       " 12,\n",
       " 13,\n",
       " 14,\n",
       " 15,\n",
       " 16,\n",
       " 17,\n",
       " 18,\n",
       " 19,\n",
       " 20,\n",
       " 21,\n",
       " 22,\n",
       " 23,\n",
       " 24,\n",
       " 25,\n",
       " 26,\n",
       " 27,\n",
       " 28,\n",
       " 29,\n",
       " 30,\n",
       " 31,\n",
       " 32,\n",
       " 33,\n",
       " 34,\n",
       " 35,\n",
       " 36,\n",
       " 37,\n",
       " 38,\n",
       " 39,\n",
       " 40,\n",
       " 41,\n",
       " 42,\n",
       " 43,\n",
       " 44,\n",
       " 45,\n",
       " 46,\n",
       " 47,\n",
       " 48,\n",
       " 49,\n",
       " 50,\n",
       " 51,\n",
       " 52,\n",
       " 53,\n",
       " 54,\n",
       " 55,\n",
       " 56,\n",
       " 57,\n",
       " 58,\n",
       " 59,\n",
       " 60,\n",
       " 61,\n",
       " 62,\n",
       " 63,\n",
       " 64,\n",
       " 65,\n",
       " 66,\n",
       " 67,\n",
       " 68,\n",
       " 69,\n",
       " 70,\n",
       " 71,\n",
       " 72,\n",
       " 73,\n",
       " 74,\n",
       " 75,\n",
       " 76,\n",
       " 77,\n",
       " 78,\n",
       " 79,\n",
       " 80,\n",
       " 81,\n",
       " 82,\n",
       " 83,\n",
       " 84,\n",
       " 85,\n",
       " 86,\n",
       " 87,\n",
       " 88,\n",
       " 89,\n",
       " 90,\n",
       " 91,\n",
       " 92,\n",
       " 93,\n",
       " 94,\n",
       " 95,\n",
       " 96,\n",
       " 97,\n",
       " 98,\n",
       " 99]"
      ]
     },
     "execution_count": 9,
     "metadata": {},
     "output_type": "execute_result"
    }
   ],
   "source": [
    "comp"
   ]
  },
  {
   "cell_type": "code",
   "execution_count": 2,
   "metadata": {
    "collapsed": true
   },
   "outputs": [],
   "source": [
    "comp1 = [i for i in range(100) if i % 2 is 0]"
   ]
  },
  {
   "cell_type": "code",
   "execution_count": 3,
   "metadata": {},
   "outputs": [
    {
     "data": {
      "text/plain": [
       "[0,\n",
       " 2,\n",
       " 4,\n",
       " 6,\n",
       " 8,\n",
       " 10,\n",
       " 12,\n",
       " 14,\n",
       " 16,\n",
       " 18,\n",
       " 20,\n",
       " 22,\n",
       " 24,\n",
       " 26,\n",
       " 28,\n",
       " 30,\n",
       " 32,\n",
       " 34,\n",
       " 36,\n",
       " 38,\n",
       " 40,\n",
       " 42,\n",
       " 44,\n",
       " 46,\n",
       " 48,\n",
       " 50,\n",
       " 52,\n",
       " 54,\n",
       " 56,\n",
       " 58,\n",
       " 60,\n",
       " 62,\n",
       " 64,\n",
       " 66,\n",
       " 68,\n",
       " 70,\n",
       " 72,\n",
       " 74,\n",
       " 76,\n",
       " 78,\n",
       " 80,\n",
       " 82,\n",
       " 84,\n",
       " 86,\n",
       " 88,\n",
       " 90,\n",
       " 92,\n",
       " 94,\n",
       " 96,\n",
       " 98]"
      ]
     },
     "execution_count": 3,
     "metadata": {},
     "output_type": "execute_result"
    }
   ],
   "source": [
    "comp1"
   ]
  },
  {
   "cell_type": "code",
   "execution_count": 4,
   "metadata": {},
   "outputs": [
    {
     "data": {
      "text/plain": [
       "[0, 2, 4, 6, 8, 10, 12, 14, 16, 18]"
      ]
     },
     "execution_count": 4,
     "metadata": {},
     "output_type": "execute_result"
    }
   ],
   "source": [
    "comp1[:10]"
   ]
  },
  {
   "cell_type": "code",
   "execution_count": 5,
   "metadata": {},
   "outputs": [
    {
     "data": {
      "text/plain": [
       "50"
      ]
     },
     "execution_count": 5,
     "metadata": {},
     "output_type": "execute_result"
    }
   ],
   "source": [
    "len(comp1)"
   ]
  },
  {
   "cell_type": "code",
   "execution_count": 9,
   "metadata": {},
   "outputs": [],
   "source": [
    "name = \"ekrjferjhflqewkrf\""
   ]
  },
  {
   "cell_type": "code",
   "execution_count": 10,
   "metadata": {},
   "outputs": [
    {
     "data": {
      "text/plain": [
       "['ekrjferjhflqewkrf']"
      ]
     },
     "execution_count": 10,
     "metadata": {},
     "output_type": "execute_result"
    }
   ],
   "source": [
    "name.split()"
   ]
  },
  {
   "cell_type": "code",
   "execution_count": 11,
   "metadata": {},
   "outputs": [
    {
     "data": {
      "text/plain": [
       "['e',\n",
       " 'k',\n",
       " 'r',\n",
       " 'j',\n",
       " 'f',\n",
       " 'e',\n",
       " 'r',\n",
       " 'j',\n",
       " 'h',\n",
       " 'f',\n",
       " 'l',\n",
       " 'q',\n",
       " 'e',\n",
       " 'w',\n",
       " 'k',\n",
       " 'r',\n",
       " 'f']"
      ]
     },
     "execution_count": 11,
     "metadata": {},
     "output_type": "execute_result"
    }
   ],
   "source": [
    "list(name)"
   ]
  },
  {
   "cell_type": "code",
   "execution_count": 12,
   "metadata": {
    "collapsed": true
   },
   "outputs": [],
   "source": [
    "alpha = list(name)"
   ]
  },
  {
   "cell_type": "code",
   "execution_count": 13,
   "metadata": {},
   "outputs": [
    {
     "data": {
      "text/plain": [
       "['e',\n",
       " 'k',\n",
       " 'r',\n",
       " 'j',\n",
       " 'f',\n",
       " 'e',\n",
       " 'r',\n",
       " 'j',\n",
       " 'h',\n",
       " 'f',\n",
       " 'l',\n",
       " 'q',\n",
       " 'e',\n",
       " 'w',\n",
       " 'k',\n",
       " 'r',\n",
       " 'f']"
      ]
     },
     "execution_count": 13,
     "metadata": {},
     "output_type": "execute_result"
    }
   ],
   "source": [
    "alpha"
   ]
  },
  {
   "cell_type": "code",
   "execution_count": 15,
   "metadata": {},
   "outputs": [
    {
     "data": {
      "text/plain": [
       "'e,k,r,j,f,e,r,j,h,f,l,q,e,w,k,r,f'"
      ]
     },
     "execution_count": 15,
     "metadata": {},
     "output_type": "execute_result"
    }
   ],
   "source": [
    "\",\".join(alpha)"
   ]
  },
  {
   "cell_type": "code",
   "execution_count": 16,
   "metadata": {
    "collapsed": true
   },
   "outputs": [],
   "source": [
    "alpha.sort()"
   ]
  },
  {
   "cell_type": "code",
   "execution_count": 17,
   "metadata": {},
   "outputs": [
    {
     "data": {
      "text/plain": [
       "['e',\n",
       " 'e',\n",
       " 'e',\n",
       " 'f',\n",
       " 'f',\n",
       " 'f',\n",
       " 'h',\n",
       " 'j',\n",
       " 'j',\n",
       " 'k',\n",
       " 'k',\n",
       " 'l',\n",
       " 'q',\n",
       " 'r',\n",
       " 'r',\n",
       " 'r',\n",
       " 'w']"
      ]
     },
     "execution_count": 17,
     "metadata": {},
     "output_type": "execute_result"
    }
   ],
   "source": [
    "alpha"
   ]
  },
  {
   "cell_type": "code",
   "execution_count": 18,
   "metadata": {},
   "outputs": [
    {
     "data": {
      "text/plain": [
       "{'e', 'f', 'h', 'j', 'k', 'l', 'q', 'r', 'w'}"
      ]
     },
     "execution_count": 18,
     "metadata": {},
     "output_type": "execute_result"
    }
   ],
   "source": [
    "set(alpha)"
   ]
  },
  {
   "cell_type": "code",
   "execution_count": 19,
   "metadata": {
    "collapsed": true
   },
   "outputs": [],
   "source": [
    "import numpy as np"
   ]
  },
  {
   "cell_type": "code",
   "execution_count": 20,
   "metadata": {
    "collapsed": true
   },
   "outputs": [],
   "source": [
    "import matplotlib.pyplot as pp"
   ]
  },
  {
   "cell_type": "code",
   "execution_count": 24,
   "metadata": {
    "collapsed": true
   },
   "outputs": [],
   "source": [
    "a = np.array([1,2,3,4,5],dtype=np.float64)"
   ]
  },
  {
   "cell_type": "code",
   "execution_count": 25,
   "metadata": {},
   "outputs": [
    {
     "data": {
      "text/plain": [
       "array([ 1.,  2.,  3.,  4.,  5.])"
      ]
     },
     "execution_count": 25,
     "metadata": {},
     "output_type": "execute_result"
    }
   ],
   "source": [
    "a"
   ]
  },
  {
   "cell_type": "code",
   "execution_count": 26,
   "metadata": {},
   "outputs": [
    {
     "data": {
      "text/plain": [
       "dtype('float64')"
      ]
     },
     "execution_count": 26,
     "metadata": {},
     "output_type": "execute_result"
    }
   ],
   "source": [
    "a.dtype"
   ]
  },
  {
   "cell_type": "code",
   "execution_count": 27,
   "metadata": {},
   "outputs": [
    {
     "data": {
      "text/plain": [
       "1"
      ]
     },
     "execution_count": 27,
     "metadata": {},
     "output_type": "execute_result"
    }
   ],
   "source": [
    "a.ndim"
   ]
  },
  {
   "cell_type": "code",
   "execution_count": 28,
   "metadata": {},
   "outputs": [
    {
     "data": {
      "text/plain": [
       "(5,)"
      ]
     },
     "execution_count": 28,
     "metadata": {},
     "output_type": "execute_result"
    }
   ],
   "source": [
    "a.shape"
   ]
  },
  {
   "cell_type": "code",
   "execution_count": 29,
   "metadata": {},
   "outputs": [
    {
     "data": {
      "text/plain": [
       "5"
      ]
     },
     "execution_count": 29,
     "metadata": {},
     "output_type": "execute_result"
    }
   ],
   "source": [
    "a.size"
   ]
  },
  {
   "cell_type": "code",
   "execution_count": 30,
   "metadata": {
    "collapsed": true
   },
   "outputs": [],
   "source": [
    "aa = np.array([[1,2,3,4,5],[6,7,8,9,0]],dtype=np.float64)"
   ]
  },
  {
   "cell_type": "code",
   "execution_count": 31,
   "metadata": {},
   "outputs": [
    {
     "data": {
      "text/plain": [
       "array([[ 1.,  2.,  3.,  4.,  5.],\n",
       "       [ 6.,  7.,  8.,  9.,  0.]])"
      ]
     },
     "execution_count": 31,
     "metadata": {},
     "output_type": "execute_result"
    }
   ],
   "source": [
    "aa"
   ]
  },
  {
   "cell_type": "code",
   "execution_count": 32,
   "metadata": {},
   "outputs": [
    {
     "data": {
      "text/plain": [
       "2"
      ]
     },
     "execution_count": 32,
     "metadata": {},
     "output_type": "execute_result"
    }
   ],
   "source": [
    "aa.ndim"
   ]
  },
  {
   "cell_type": "code",
   "execution_count": 33,
   "metadata": {},
   "outputs": [
    {
     "data": {
      "text/plain": [
       "(2, 5)"
      ]
     },
     "execution_count": 33,
     "metadata": {},
     "output_type": "execute_result"
    }
   ],
   "source": [
    "aa.shape"
   ]
  },
  {
   "cell_type": "code",
   "execution_count": 34,
   "metadata": {},
   "outputs": [
    {
     "data": {
      "text/plain": [
       "10"
      ]
     },
     "execution_count": 34,
     "metadata": {},
     "output_type": "execute_result"
    }
   ],
   "source": [
    "aa.size"
   ]
  },
  {
   "cell_type": "code",
   "execution_count": 41,
   "metadata": {},
   "outputs": [
    {
     "data": {
      "text/plain": [
       "array([[ 0.,  0.,  0.,  0.,  0.,  0.,  0.,  0.,  0.],\n",
       "       [ 0.,  0.,  0.,  0.,  0.,  0.,  0.,  0.,  0.],\n",
       "       [ 0.,  0.,  0.,  0.,  0.,  0.,  0.,  0.,  0.],\n",
       "       [ 0.,  0.,  0.,  0.,  0.,  0.,  0.,  0.,  0.],\n",
       "       [ 0.,  0.,  0.,  0.,  0.,  0.,  0.,  0.,  0.],\n",
       "       [ 0.,  0.,  0.,  0.,  0.,  0.,  0.,  0.,  0.],\n",
       "       [ 0.,  0.,  0.,  0.,  0.,  0.,  0.,  0.,  0.],\n",
       "       [ 0.,  0.,  0.,  0.,  0.,  0.,  0.,  0.,  0.],\n",
       "       [ 0.,  0.,  0.,  0.,  0.,  0.,  0.,  0.,  0.]])"
      ]
     },
     "execution_count": 41,
     "metadata": {},
     "output_type": "execute_result"
    }
   ],
   "source": [
    "np.zeros((9,9),\"d\")"
   ]
  },
  {
   "cell_type": "code",
   "execution_count": 46,
   "metadata": {},
   "outputs": [
    {
     "data": {
      "text/plain": [
       "array([  0. ,   2.5,   5. ,   7.5,  10. ])"
      ]
     },
     "execution_count": 46,
     "metadata": {},
     "output_type": "execute_result"
    }
   ],
   "source": [
    "np.linspace(0,10,5)"
   ]
  },
  {
   "cell_type": "code",
   "execution_count": 47,
   "metadata": {},
   "outputs": [
    {
     "data": {
      "text/plain": [
       "array([0, 2, 4, 6, 8])"
      ]
     },
     "execution_count": 47,
     "metadata": {},
     "output_type": "execute_result"
    }
   ],
   "source": [
    "np.arange(0,10,2)"
   ]
  },
  {
   "cell_type": "code",
   "execution_count": 50,
   "metadata": {},
   "outputs": [
    {
     "data": {
      "text/plain": [
       "array([[-0.81204605, -1.07063664],\n",
       "       [-0.70639536, -0.22480137]])"
      ]
     },
     "execution_count": 50,
     "metadata": {},
     "output_type": "execute_result"
    }
   ],
   "source": [
    "np.random.standard_normal((2,2))"
   ]
  },
  {
   "cell_type": "code",
   "execution_count": 51,
   "metadata": {},
   "outputs": [
    {
     "data": {
      "text/plain": [
       "array([ 1.,  2.,  3.,  4.,  5.])"
      ]
     },
     "execution_count": 51,
     "metadata": {},
     "output_type": "execute_result"
    }
   ],
   "source": [
    "a"
   ]
  },
  {
   "cell_type": "code",
   "execution_count": 52,
   "metadata": {},
   "outputs": [
    {
     "data": {
      "text/plain": [
       "array([[ 1.,  2.,  3.,  4.,  5.],\n",
       "       [ 6.,  7.,  8.,  9.,  0.]])"
      ]
     },
     "execution_count": 52,
     "metadata": {},
     "output_type": "execute_result"
    }
   ],
   "source": [
    "aa"
   ]
  },
  {
   "cell_type": "code",
   "execution_count": 55,
   "metadata": {},
   "outputs": [],
   "source": [
    "bb = np.array([[1,2,3,4,5],[6,7,8,9,0]])"
   ]
  },
  {
   "cell_type": "code",
   "execution_count": 59,
   "metadata": {},
   "outputs": [
    {
     "data": {
      "text/plain": [
       "dtype('int32')"
      ]
     },
     "execution_count": 59,
     "metadata": {},
     "output_type": "execute_result"
    }
   ],
   "source": [
    "bb.dtype"
   ]
  },
  {
   "cell_type": "code",
   "execution_count": 70,
   "metadata": {},
   "outputs": [
    {
     "data": {
      "text/plain": [
       "array([[ 1.,  2.,  3.,  4.,  5.],\n",
       "       [ 6.,  7.,  8.,  9.,  0.],\n",
       "       [ 1.,  2.,  3.,  4.,  5.],\n",
       "       [ 6.,  7.,  8.,  9.,  0.]])"
      ]
     },
     "execution_count": 70,
     "metadata": {},
     "output_type": "execute_result"
    }
   ],
   "source": [
    "cc = np.vstack([aa,bb])\n",
    "cc"
   ]
  },
  {
   "cell_type": "code",
   "execution_count": 61,
   "metadata": {},
   "outputs": [
    {
     "data": {
      "text/plain": [
       "array([[ 1.,  2.,  3.,  4.,  5.,  1.,  2.,  3.,  4.,  5.],\n",
       "       [ 6.,  7.,  8.,  9.,  0.,  6.,  7.,  8.,  9.,  0.]])"
      ]
     },
     "execution_count": 61,
     "metadata": {},
     "output_type": "execute_result"
    }
   ],
   "source": [
    "np.hstack([aa,bb])"
   ]
  },
  {
   "cell_type": "code",
   "execution_count": 63,
   "metadata": {},
   "outputs": [
    {
     "name": "stdout",
     "output_type": "stream",
     "text": [
      "[]\n"
     ]
    }
   ],
   "source": [
    "print(aa[2:4])"
   ]
  },
  {
   "cell_type": "code",
   "execution_count": 64,
   "metadata": {},
   "outputs": [
    {
     "data": {
      "text/plain": [
       "array([[ 1.,  2.,  3.,  4.,  5.],\n",
       "       [ 6.,  7.,  8.,  9.,  0.]])"
      ]
     },
     "execution_count": 64,
     "metadata": {},
     "output_type": "execute_result"
    }
   ],
   "source": [
    "aa"
   ]
  },
  {
   "cell_type": "code",
   "execution_count": 65,
   "metadata": {},
   "outputs": [
    {
     "data": {
      "text/plain": [
       "array([ 1.,  2.,  3.,  4.,  5.])"
      ]
     },
     "execution_count": 65,
     "metadata": {},
     "output_type": "execute_result"
    }
   ],
   "source": [
    "a"
   ]
  },
  {
   "cell_type": "code",
   "execution_count": 66,
   "metadata": {},
   "outputs": [
    {
     "data": {
      "text/plain": [
       "array([ 3.,  4.])"
      ]
     },
     "execution_count": 66,
     "metadata": {},
     "output_type": "execute_result"
    }
   ],
   "source": [
    "a[2:4]"
   ]
  },
  {
   "cell_type": "code",
   "execution_count": 75,
   "metadata": {},
   "outputs": [
    {
     "data": {
      "text/plain": [
       "array([[ 1.],\n",
       "       [ 6.]])"
      ]
     },
     "execution_count": 75,
     "metadata": {},
     "output_type": "execute_result"
    }
   ],
   "source": [
    "cc[2:4,:1]"
   ]
  },
  {
   "cell_type": "code",
   "execution_count": 80,
   "metadata": {
    "collapsed": true
   },
   "outputs": [],
   "source": [
    "x = np.linspace(1,10,100)"
   ]
  },
  {
   "cell_type": "code",
   "execution_count": 81,
   "metadata": {},
   "outputs": [
    {
     "data": {
      "text/plain": [
       "array([  1.        ,   1.09090909,   1.18181818,   1.27272727,\n",
       "         1.36363636,   1.45454545,   1.54545455,   1.63636364,\n",
       "         1.72727273,   1.81818182,   1.90909091,   2.        ,\n",
       "         2.09090909,   2.18181818,   2.27272727,   2.36363636,\n",
       "         2.45454545,   2.54545455,   2.63636364,   2.72727273,\n",
       "         2.81818182,   2.90909091,   3.        ,   3.09090909,\n",
       "         3.18181818,   3.27272727,   3.36363636,   3.45454545,\n",
       "         3.54545455,   3.63636364,   3.72727273,   3.81818182,\n",
       "         3.90909091,   4.        ,   4.09090909,   4.18181818,\n",
       "         4.27272727,   4.36363636,   4.45454545,   4.54545455,\n",
       "         4.63636364,   4.72727273,   4.81818182,   4.90909091,\n",
       "         5.        ,   5.09090909,   5.18181818,   5.27272727,\n",
       "         5.36363636,   5.45454545,   5.54545455,   5.63636364,\n",
       "         5.72727273,   5.81818182,   5.90909091,   6.        ,\n",
       "         6.09090909,   6.18181818,   6.27272727,   6.36363636,\n",
       "         6.45454545,   6.54545455,   6.63636364,   6.72727273,\n",
       "         6.81818182,   6.90909091,   7.        ,   7.09090909,\n",
       "         7.18181818,   7.27272727,   7.36363636,   7.45454545,\n",
       "         7.54545455,   7.63636364,   7.72727273,   7.81818182,\n",
       "         7.90909091,   8.        ,   8.09090909,   8.18181818,\n",
       "         8.27272727,   8.36363636,   8.45454545,   8.54545455,\n",
       "         8.63636364,   8.72727273,   8.81818182,   8.90909091,\n",
       "         9.        ,   9.09090909,   9.18181818,   9.27272727,\n",
       "         9.36363636,   9.45454545,   9.54545455,   9.63636364,\n",
       "         9.72727273,   9.81818182,   9.90909091,  10.        ])"
      ]
     },
     "execution_count": 81,
     "metadata": {},
     "output_type": "execute_result"
    }
   ],
   "source": [
    "x"
   ]
  },
  {
   "cell_type": "code",
   "execution_count": 82,
   "metadata": {
    "collapsed": true
   },
   "outputs": [],
   "source": [
    "sinx = np.sin(x)"
   ]
  },
  {
   "cell_type": "code",
   "execution_count": 84,
   "metadata": {},
   "outputs": [
    {
     "data": {
      "text/plain": [
       "[<matplotlib.lines.Line2D at 0x6e7dfaa390>]"
      ]
     },
     "execution_count": 84,
     "metadata": {},
     "output_type": "execute_result"
    }
   ],
   "source": [
    "pp.plot(x,sinx)"
   ]
  },
  {
   "cell_type": "code",
   "execution_count": 85,
   "metadata": {},
   "outputs": [
    {
     "data": {
      "image/png": "[encoded data removed]",
      "text/plain": [
       "<matplotlib.figure.Figure at 0x6e7dee04a8>"
      ]
     },
     "metadata": {},
     "output_type": "display_data"
    }
   ],
   "source": [
    "pp.show()"
   ]
  },
  {
   "cell_type": "code",
   "execution_count": 86,
   "metadata": {},
   "outputs": [
    {
     "data": {
      "text/plain": [
       "array([[ 1.,  2.,  3.,  4.,  5.],\n",
       "       [ 6.,  7.,  8.,  9.,  0.]])"
      ]
     },
     "execution_count": 86,
     "metadata": {},
     "output_type": "execute_result"
    }
   ],
   "source": [
    "aa"
   ]
  },
  {
   "cell_type": "code",
   "execution_count": 87,
   "metadata": {},
   "outputs": [
    {
     "data": {
      "text/plain": [
       "array([[False, False, False, False, False],\n",
       "       [ True,  True,  True,  True, False]], dtype=bool)"
      ]
     },
     "execution_count": 87,
     "metadata": {},
     "output_type": "execute_result"
    }
   ],
   "source": [
    "aa > 5"
   ]
  },
  {
   "cell_type": "code",
   "execution_count": 88,
   "metadata": {
    "collapsed": true
   },
   "outputs": [],
   "source": [
    "cmp = aa>5"
   ]
  },
  {
   "cell_type": "code",
   "execution_count": 92,
   "metadata": {},
   "outputs": [
    {
     "data": {
      "text/plain": [
       "array([ 6.,  7.,  8.,  9.])"
      ]
     },
     "execution_count": 92,
     "metadata": {},
     "output_type": "execute_result"
    }
   ],
   "source": [
    "aa[cmp]"
   ]
  },
  {
   "cell_type": "code",
   "execution_count": 93,
   "metadata": {
    "collapsed": true
   },
   "outputs": [],
   "source": [
    "%matplotlib inline"
   ]
  },
  {
   "cell_type": "code",
   "execution_count": 94,
   "metadata": {
    "collapsed": true
   },
   "outputs": [],
   "source": [
    "import urllib.request"
   ]
  },
  {
   "cell_type": "code",
   "execution_count": 96,
   "metadata": {},
   "outputs": [
    {
     "data": {
      "text/plain": [
       "('stations.txt', <email.message.Message at 0x6e7e7c8dd8>)"
      ]
     },
     "execution_count": 96,
     "metadata": {},
     "output_type": "execute_result"
    }
   ],
   "source": [
    "urllib.request.urlretrieve('ftp://ftp.ncdc.noaa.gov/pub/data/ghcn/daily/ghcnd-stations.txt','stations.txt')"
   ]
  },
  {
   "cell_type": "code",
   "execution_count": 99,
   "metadata": {},
   "outputs": [],
   "source": [
    "wfile = open('stations.txt','r')"
   ]
  },
  {
   "cell_type": "code",
   "execution_count": 100,
   "metadata": {},
   "outputs": [
    {
     "data": {
      "text/plain": [
       "['ACW00011604  17.1167  -61.7833   10.1    ST JOHNS COOLIDGE FLD                       \\n',\n",
       " 'ACW00011647  17.1333  -61.7833   19.2    ST JOHNS                                    \\n',\n",
       " 'AE000041196  25.3330   55.5170   34.0    SHARJAH INTER. AIRP            GSN     41196\\n',\n",
       " 'AEM00041194  25.2550   55.3640   10.4    DUBAI INTL                             41194\\n',\n",
       " 'AEM00041217  24.4330   54.6510   26.8    ABU DHABI INTL                         41217\\n']"
      ]
     },
     "execution_count": 100,
     "metadata": {},
     "output_type": "execute_result"
    }
   ],
   "source": [
    "wfile.readlines()[:5]"
   ]
  },
  {
   "cell_type": "code",
   "execution_count": 101,
   "metadata": {
    "collapsed": true
   },
   "outputs": [],
   "source": [
    "stations = {}"
   ]
  },
  {
   "cell_type": "code",
   "execution_count": 124,
   "metadata": {},
   "outputs": [],
   "source": [
    "for line in wfile:\n",
    "    if 'GSN' in line:\n",
    "        fields = line.split()\n",
    "        \n",
    "        \n",
    "        stations[fields[0]] = ' '.join(fields[4:])"
   ]
  },
  {
   "cell_type": "code",
   "execution_count": 123,
   "metadata": {},
   "outputs": [
    {
     "data": {
      "text/plain": [
       "997"
      ]
     },
     "execution_count": 123,
     "metadata": {},
     "output_type": "execute_result"
    }
   ],
   "source": [
    "len(stations)"
   ]
  },
  {
   "cell_type": "code",
   "execution_count": 121,
   "metadata": {},
   "outputs": [
    {
     "name": "stdout",
     "output_type": "stream",
     "text": [
      "SHARJAH INTER. AIRP GSN 41196\n",
      "NORTH-SALANG GSN 40930\n",
      "ALGER-DAR EL BEIDA GSN 60390\n",
      "EL-GOLEA GSN 60590\n",
      "IN-AMENAS GSN 60611\n",
      "TAMANRASSET GSN 60680\n",
      "ASTARA GSN 37989\n",
      "TIRANA RINAS GSN 13615\n",
      "ARAGAC VISOKOGORNAYA GSN 37781\n",
      "LUANDA GSN 66160\n",
      "WAKU KUNGU (CELA) GSN 66270\n",
      "LUBANGO (SA DA BAND GSN 66390\n",
      "MENONGUE (SERPA PIN GSN 66410\n",
      "MOCAMEDES GSN 66422\n",
      "MAVINGA GSN 66447\n",
      "AS PAGO PAGO WSO AP GSN 91765\n",
      "LA QUIACA OBSERVATO GSN 87007\n",
      "RIVADAVIA GSN 87065\n",
      "LAS LOMITAS GSN 87078\n",
      "RESISTENCIA AERO GSN 87155\n",
      "LA RIOJA AERO. GSN 87217\n",
      "CERES AERO GSN 87257\n",
      "RECONQUISTA AERO GSN 87270\n",
      "CORDOBA AERO GSN 87344\n",
      "PARANA AERO GSN 87374\n",
      "MENDOZA AERO GSN 87418\n",
      "LABOULAYE AERO GSN 87534\n",
      "SANTA ROSA AERO GSN 87623\n",
      "MAR DEL PLATA AERO GSN 87692\n",
      "NEUQUEN AERO GSN 87715\n",
      "ESQUEL AERO GSN 87803\n",
      "TRELEW AERO GSN 87828\n",
      "COMODORO RIVADAVIA GSN 87860\n",
      "RIO GALLEGOS AERO GSN 87925\n",
      "SALTA AERO GSN 87047\n",
      "JACHAL GSN 87305\n",
      "PEHUAJO AERO GSN 87544\n",
      "BAHIA BLANCA AERO GSN 87750\n",
      "WILLIS ISLAND GSN 94299\n",
      "LORD HOWE ISLAND AERO GSN 94995\n",
      "MACQUARIE ISLAND GSN 94998\n",
      "KALUMBURU GSN 94100\n",
      "HALLS CREEK AIRPORT GSN 94212\n",
      "BROOME AIRPORT GSN 94203\n",
      "PORT HEDLAND AIRPORT GSN 94312\n",
      "LEARMONTH AIRPORT GSN 94302\n",
      "CARNARVON AIRPORT GSN 94300\n",
      "MEEKATHARRA AIRPORT GSN 94430\n",
      "NEWMAN AERO GSN 94317\n",
      "GERALDTON AIRPORT GSN 94403\n",
      "CAPE LEEUWIN GSN 94601\n",
      "ALBANY AIRPORT GSN 94802\n",
      "ESPERANCE GSN 94638\n",
      "CUNDERDIN AIRFIELD GSN 95625\n",
      "FORREST GSN 95646\n",
      "KALGOORLIE-BOULDER AIRPORT GSN 94637\n",
      "GILES METEOROLOGICAL OFFICE GSN 94461\n",
      "DARWIN AIRPORT GSN 94120\n",
      "GOVE AIRPORT GSN 94150\n",
      "TINDAL RAAF GSN 94131\n",
      "TENNANT CREEK AIRPORT GSN 94238\n",
      "RABBIT FLAT GSN 95322\n",
      "ALICE SPRINGS AIRPORT GSN 94326\n",
      "MARREE COMPARISON GSN 94480\n",
      "OODNADATTA AIRPORT GSN 94476\n",
      "CEDUNA POST OFFICE GSN 94653\n",
      "SNOWTOWN (RAYVILLE PARK) GSN 95670\n",
      "CAPE BORDA GSN 95805\n",
      "MOUNT GAMBIER POST OFFICE GSN 94821\n",
      "WEIPA AERO GSN 94170\n",
      "BURKETOWN POST OFFICE GSN 94259\n",
      "MOUNT ISA MINE GSN 94332\n",
      "RICHMOND POST OFFICE GSN 94340\n",
      "GEORGETOWN AIRPORT GSN 94274\n",
      "CAIRNS POST OFFICE GSN 94287\n",
      "MACKAY M.O GSN 94367\n",
      "LONGREACH AERO GSN 94346\n",
      "BIRDSVILLE AIRPORT GSN 95482\n",
      "GLADSTONE RADAR GSN 94380\n",
      "TEWANTIN RSL PARK GSN 94570\n",
      "ST GEORGE AIRPORT GSN 94517\n",
      "CHARLEVILLE AERO GSN 94510\n",
      "THARGOMINDAH AIRPORT GSN 95492\n",
      "TIBOOBURRA POST OFFICE GSN 94485\n",
      "BROKEN HILL (PATTON STREET) GSN 94689\n",
      "COBAR MO GSN 94711\n",
      "INVERELL (RAGLAN ST) GSN 95541\n",
      "YAMBA PILOT STATION GSN 94589\n",
      "TAREE AIRPORT AWS GSN 95784\n",
      "DUBBO AIRPORT AWS GSN 95719\n",
      "RICHMOND RAAF GSN 95753\n",
      "MORUYA HEADS PILOT STATION GSN 94937\n",
      "CABRAMURRA SMHEA GSN 95916\n",
      "WAGGA WAGGA AMO GSN 94910\n",
      "DENILIQUIN AIRPORT AWS GSN 95869\n",
      "MILDURA AIRPORT GSN 94693\n",
      "EAST SALE AIRPORT GSN 94907\n",
      "CAPE OTWAY LIGHTHOUSE GSN 94842\n",
      "LOW HEAD GSN 95964\n",
      "CAPE BRUNY LIGHTHOUSE GSN 94967\n",
      "KREMSMUENSTER GSN 11012\n",
      "WIEN GSN 11035\n",
      "SONNBLICK GSN 11146\n",
      "BASE ESPERANZA GSN 88963\n",
      "BASE ORCADAS GSN 88968\n",
      "NEUMAYER GSN 89002\n",
      "S.A.N.A.E. AWS GSN 89004\n",
      "HALLEY GSN 89022\n",
      "BELLINGSHAUSEN AWS GSN 89050\n",
      "BASE MARAMBIO GSN 89055\n",
      "CENTRO MET. ANTARTICO PDTE. E GSN 89056\n",
      "ROTHERA GSN 89062\n",
      "VERNADSKY GSN 89063\n",
      "FOSSIL BLUFF GSN 89065\n",
      "UNIV. WI ID 8926 (LARSEN ICE GSN 89262\n",
      "UNIV. WI ID 8902 (BUTLER ISLA GSN 89266\n",
      "UNIV. WI ID 8917 (SKI-BLU) GSN 89272\n",
      "BYRD STATION GSN 89324\n",
      "MOUNT SIPLE GSN 89327\n",
      "HARRY GSN 89329\n",
      "SIPLE DOME GSN 89345\n",
      "GILL GSN 89376\n",
      "LETTAU GSN 89377\n",
      "NOVOLAZAREVSKAJA GSN 89512\n",
      "SYOWA GSN 89532\n",
      "MAWSON GSN 89564\n",
      "DAVIS GSN 89571\n",
      "ZHONGSHAN GSN 89573\n",
      "PROGRESS GSN 89574\n",
      "DOME PLATEAU DOME A GSN 89577\n",
      "MIRNYJ GSN 89592\n",
      "VOSTOK GSN 89606\n",
      "CASEY GSN 89611\n",
      "CONCORDIA GSN 89625\n",
      "DUMONT D'URVILLE GSN 89642\n",
      "BASE BAIA TERRA NOVA GSN 89662\n",
      "MCMURDO SOUND NAF GSN 89664\n",
      "RELAY STAT GSN 89744\n",
      "DOME C II GSN 89828\n",
      "WHITLOCK GSN 89865\n",
      "MARILYN GSN 89869\n",
      "FERRELL GSN 89872\n",
      "POSSESSION IS GSN 89879\n",
      "MARBLE POINT GSN 89866\n",
      "AMUNDSEN-SCOTT GSN 89009\n",
      "BAHRAIN (INT. AIRPO GSN 41150\n",
      "GRANTLEY ADAMS GSN 78954\n",
      "MAUN GSN 68032\n",
      "L F WADE INTL AP KINDLEY FLD GSN 78016\n",
      "UCCLE GSN 06447\n",
      "NASSAU AIRPORT NEW GSN 78073\n",
      "BJELASNICA GSN 14652\n",
      "COBIJA GSN 85041\n",
      "RIBERALTA GSN 85043\n",
      "MAGDALENA GSN 85114\n",
      "RURRENABAQUE GSN 85141\n",
      "COCHABAMBA GSN 85223\n",
      "CHARANA GSN 85230\n",
      "TARIJA GSN 85364\n",
      "YACUIBA GSN 85365\n",
      "SAN IGNACIO VELASCO GSN 85207\n",
      "TTE DE AV SALVADOR OGAYA G GSN 85289\n",
      "MANDALAY GSN 48042\n",
      "SITTWE GSN 48062\n",
      "YANGON INTL GSN 48097\n",
      "KANDI GSN 65306\n",
      "SAVE GSN 65335\n",
      "VASILEVICI GSN 33038\n",
      "MUNDA GSN 91503\n",
      "HONIARA GSN 91517\n",
      "FERNANDO DE NORONHA GSN 82400\n",
      "CRUZEIRO DO SUL GSN 82704\n",
      "CUIABA GSN 83361\n",
      "ALTAMIRA GSN 82353\n",
      "PONTE DA BR-040 - PRATA GSN 83481\n",
      "CURITIBA GSN 83842\n",
      "SAO PAULO GSN 83781\n",
      "BARRA DO CORDA GSN 82571\n",
      "QUIXERAMOBIM GSN 82586\n",
      "BARREIRAS GSN 83236\n",
      "SALVADOR GSN 83229\n",
      "CARAVELAS GSN 83498\n",
      "BOA VISTA GSN 82024\n",
      "SAO GABRIEL DA CACH GSN 82106\n",
      "BARCELOS GSN 82113\n",
      "VAL DE CANS INTL GSN 82193\n",
      "MANAUS GSN 82331\n",
      "BENJAMIN CONSTANT GSN 82410\n",
      "COARI GSN 82425\n",
      "PORTO VELHO GSN 82825\n",
      "PORTO NACIONAL GSN 83064\n",
      "GLEBA CELESTE GSN 83264\n",
      "BELO HORIZONTE (CONFINS) * GSN 83566\n",
      "TRES LAGOAS GSN 83618\n",
      "GALEAO ANTONIO CARLOS JOBIM GSN 83746\n",
      "CATARATAS INTL GSN 83827\n",
      "IRAI GSN 83881\n",
      "MUYINGA GSN 64397\n",
      "BC PORT HARDY A GSN 71109\n",
      "BC ESTEVAN POINT CS GSN 71894\n",
      "BC SMITHERS GSN 71950\n",
      "BC QUESNEL GSN 71103\n",
      "BC KAMLOOPS AUT GSN 71741\n",
      "BC FORT NELSON A GSN 71945\n",
      "BC DEASE LAKE (AUT) GSN 71222\n",
      "YT DAWSON A GSN 71966\n",
      "YT MACMILLAN PASS GSN 71990\n",
      "YT WATSON LAKE (AUT) GSN 71199\n",
      "YT WHITEHORSE A GSN 71964\n",
      "NT FORT RELIANCE (AUT) GSN 71160\n",
      "NT FORT SIMPSON CLIMATE GSN 71365\n",
      "NT FORT SMITH CLIMATE GSN 71362\n",
      "NT HAY RIVER CLIMATE GSN 71361\n",
      "NT INUVIK CLIMATE GSN 71364\n",
      "NT NORMAN WELLS CLIMATE GSN 71480\n",
      "NT PAULATUK GSN 71984\n",
      "NU BAKER LAKE CLIMATE GSN 71356\n",
      "NU KUGLUKTUK CLIMATE GSN 71332\n",
      "NU CORAL HARBOUR A GSN 71915\n",
      "NU ENNADAI LAKE (AUT) GSN 71923\n",
      "NU ARVIAT CLIMATE GSN 71322\n",
      "NU GJOA HAVEN CLIMATE GSN 71363\n",
      "NU KUGAARUK CLIMATE GSN 71407\n",
      "NU ROBERTSON LAKE (AUT) GSN 71490\n",
      "NU ALERT CLIMATE GSN 71355\n",
      "NU ARCTIC BAY CS GSN 71592\n",
      "NU QIKIQTARJUAQ CLIMATE GSN 71357\n",
      "NU CAMBRIDGE BAY GSN GSN 71288\n",
      "NU CAPE DORSET CLIMATE GSN 71575\n",
      "NU CLYDE RIVER CLIMATE GSN 71358\n",
      "NU EUREKA GSN 71917\n",
      "NU HALL BEACH CLIMATE GSN 71320\n",
      "NU IQALUIT CLIMATE GSN 71321\n",
      "NU ISACHSEN (AUT) GSN 71074\n",
      "NU PANGNIRTUNG GSN 71826\n",
      "NU POND INLET CLIMATE GSN 71576\n",
      "NU RESOLUTE CS GSN 71018\n",
      "NU STEFANSSON ISLAND GSN 71017\n",
      "NU WAGER BAY (AUT) GSN 71049\n",
      "NT HOLMAN CS GSN 71029\n",
      "NT SACHS HARBOUR CLIMATE GSN 71467\n",
      "NT MOULD BAY CS GSN 71989\n",
      "AB MEDICINE HAT RCS GSN 71026\n",
      "AB BANFF CS GSN 71122\n",
      "AB FORT MCMURRAY CS GSN 71585\n",
      "AB SLAVE LAKE AWOS A GSN 71069\n",
      "AB HIGH LEVEL GSN 71066\n",
      "AB COLD LAKE A GSN 71120\n",
      "SK ESTEVAN A GSN 71862\n",
      "SK SWIFT CURRENT CDA GSN 71446\n",
      "SK PRINCE ALBERT A GSN 71869\n",
      "SK LA RONGE RCS GSN 71586\n",
      "MB BERENS RIVER CS GSN 71158\n",
      "MB DAUPHIN CS GSN 71550\n",
      "MB THE PAS CLIMATE GSN 71695\n",
      "MB CHURCHILL CLIMATE GSN 71696\n",
      "MB THOMPSON A GSN 71079\n",
      "ON BIG TROUT LAKE READAC GSN 71844\n",
      "ON PEAWANUCK (AUT) GSN 71434\n",
      "ON SIOUX LOOKOUT A GSN 71842\n",
      "ON SUDBURY CLIMATE GSN 71733\n",
      "ON KAPUSKASING CDA ON GSN 71299\n",
      "ON MOOSONEE RCS GSN 71309\n",
      "QC MANIWAKI AIRPORT GSN 71721\n",
      "QC NATASHQUAN A GSN 71813\n",
      "QC SEPT-ILES GSN 71279\n",
      "QC LA POCATIERE GSN 71713\n",
      "QC BAGOTVILLE A GSN 71727\n",
      "QC LA GRANDE RIVIERE A GSN 71827\n",
      "QC LA GRANDE IV GSN 71823\n",
      "QC INUKJUAK UA GSN 71907\n",
      "QC KUUJJUAQ A GSN 71906\n",
      "QC RIVIERE AUX FEUILLES GSN 71743\n",
      "QC SCHEFFERVILLE A GSN 71828\n",
      "NS SABLE ISLAND GSN 71600\n",
      "NS YARMOUTH A GSN 71603\n",
      "PE HARRINGTON CDA CS GSN 71350\n",
      "NL DANIELS HARBOUR GSN 71185\n",
      "NL GANDER AIRPORT CS GSN 71742\n",
      "NL ISLE AUX MORTS GSN 71197\n",
      "NL CARTWRIGHT GSN 71818\n",
      "NL GOOSE A GSN 71816\n",
      "NL NAIN GSN 71665\n",
      "NDJAMENA GSN 64700\n",
      "MOUNDOU GSN 64706\n",
      "ATI GSN 64751\n",
      "FAYA GSN 64753\n",
      "AM-TIMAN GSN 64754\n",
      "HAMBANTOTA GSN 43497\n",
      "NUWARA ELIYA GSN 43473\n",
      "COLOMBO GSN 43466\n",
      "IMPFONDO GSN 64459\n",
      "HAILAR GSN 50527\n",
      "QIQIHAR GSN 50745\n",
      "ALTAY GSN 51076\n",
      "WU LU MU QI GSN 51463\n",
      "KASHI GSN 51709\n",
      "RUOQIANG GSN 51777\n",
      "HOTAN GSN 51828\n",
      "HAMI GSN 52203\n",
      "JIUQUAN GSN 52533\n",
      "DULAN GSN 52836\n",
      "ERENHOT GSN 53068\n",
      "YINCHUAN GSN 53614\n",
      "TAIYUAN GSN 53772\n",
      "SHENYANG GSN 54342\n",
      "BEIJING GSN 54511\n",
      "QINGDAO GSN 54857\n",
      "LHASA GSN 55591\n",
      "QAMDO GSN 56137\n",
      "WENJIANG GSN 56187\n",
      "XICHANG GSN 56571\n",
      "TENGCHONG GSN 56739\n",
      "MENGZI GSN 56985\n",
      "ZHENGZHOU GSN 57083\n",
      "JINGHE GSN 57131\n",
      "YICHANG GSN 57461\n",
      "ZHIJIANG GSN 57745\n",
      "GANZHOU GSN 57993\n",
      "SHANGHAI GSN 58362\n",
      "NANCHANG GSN 58606\n",
      "GUANGZHOU GSN 59287\n",
      "SHANTOU GSN 59316\n",
      "NANNING GSN 59431\n",
      "HAIKOU GSN 59758\n",
      "ARICA GSN 85406\n",
      "ANTOFAGASTA GSN 85442\n",
      "ISLA DE PASCUA GSN 85469\n",
      "LA SERENA GSN 85488\n",
      "QUINTERO GSN 85577\n",
      "JUAN FERNANDEZ GSN 85585\n",
      "CURICO GSN 85629\n",
      "TEMUCO GSN 85743\n",
      "PUERTO MONTT GSN 85799\n",
      "BALMACEDA GSN 85874\n",
      "PUNTA ARENAS GSN 85934\n",
      "ROBERTS GSN 78384\n",
      "COCOS ISLAND AERO GSN 96996\n",
      "NGAOUNDERE GSN 64870\n",
      "SAN ANDRES (ISLA)/S GSN 80001\n",
      "BOGOTA/ELDORADO GSN 80222\n",
      "CALI/ALFONSO BONILL GSN 80259\n",
      "PASTO/ANTONIO NARIN GSN 80342\n",
      "PUERTO LIMON GSN 78767\n",
      "GUANTANAMO BAY NAS GSN 78367\n",
      "MINDELO GSN 08583\n",
      "RAROTONGA INTL GSN 91843\n",
      "LARNACA GSN 17609\n",
      "KOEBENHAVN: LANDBOHOJSKOLEN-1 GSN 06186\n",
      "TORSHAVN GSN 06011\n",
      "PICHILINGUE GSN 84140\n",
      "SAN CRISTOBAL GSN 84008\n",
      "IZOBAMBA GSN 84088\n",
      "LOJA/LA ARGELIA GSN 84270\n",
      "MERSA MATRUH GSN 62306\n",
      "ASSWAN GSN 62414\n",
      "SIWA GSN 62417\n",
      "DAKHLA GSN 62432\n",
      "HURGUADA GSN 62463\n",
      "BAHARIA GSN 62420\n",
      "VALENTIA OBSERVATORY GSN 03953\n",
      "MALIN HEAD GSN 03980\n",
      "TARTU-TORAVERE GSN 26242\n",
      "ASMARA GSN 63021\n",
      "ACAJUTLA GSN 78650\n",
      "GORE GSN 63403\n",
      "ADDIS ABABA-BOLE GSN 63450\n",
      "METEHARA GSN 63453\n",
      "NEGHELLE GSN 63533\n",
      "ILE EUROPA GSN 61972\n",
      "MILESOVKA GSN 11464\n",
      "ROCHAMBEAU GSN 81405\n",
      "JYVASKYLA LENTOASEMA GSN 02935\n",
      "JOKIOINEN JOKIOISTEN OBSERVATO GSN 02963\n",
      "SODANKYLA AWS GSN 02836\n",
      "ROTUMA GSN 91650\n",
      "UDU POINT AWS GSN 91652\n",
      "NADI AIRPORT GSN 91680\n",
      "ONO-I-LAU AWS GSN 91699\n",
      "MOUNT PLEASANT GSN 88889\n",
      "FM YAP ISLAND WSO AP GSN 91490\n",
      "FM POHNPEI WSO GSN 91348\n",
      "FM CHUUK WSO AP GSN 91334\n",
      "HIVA-OA GSN 91925\n",
      "TAHITI-FAAA GSN 91938\n",
      "TAKAROA GSN 91943\n",
      "MANGAREVA GSN 91948\n",
      "TUBUAI GSN 91954\n",
      "RAPA GSN 91958\n",
      "HEREHERETUE GSN 91945\n",
      "RENNES-ST JACQUES GSN 07130\n",
      "STRASBOURG-ENTZHEIM GSN 07190\n",
      "BOURGES GSN 07255\n",
      "MONT-AIGOUAL GSN 07560\n",
      "TOULOUSE-BLAGNAC GSN 07630\n",
      "MARSEILLES-MARIGNANE GSN 07650\n",
      "PORT-AUX-FRANCAIS (ILES KERGU GSN 61998\n",
      "MARTIN DE VIVIES (I GSN 61996\n",
      "ALFRED FAURE (ILES CROZET) GSN 61997\n",
      "MAYUMBA GSN 64503\n",
      "MITZIC GSN 64552\n",
      "NUUK GSN 04250\n",
      "DANMARKSHAVN GSN 04320\n",
      "TASIILAQ GSN 04360\n",
      "MITT. UPERNAVIK GSN 04211\n",
      "IKERASASSUAQ GSN 04390\n",
      "HAMBURG FUHLSBUETTEL GSN 10147\n",
      "LINDENBERG GSN 10393\n",
      "HOHENPEISSENBERG GSN 10962\n",
      "RHEIN MAIN GSN 10637\n",
      "LE RAIZET, GUADELOUPE GSN 78897\n",
      "GU GUAM INTL AP GSN 91212\n",
      "CORFU GSN 16641\n",
      "METHONI GSN 16734\n",
      "SAMOS AIRPORT GSN 16723\n",
      "SOUDA AIRPORT GSN 16746\n",
      "ZAGREB-GRIC GSN 14236\n",
      "PECS POGANY GSN 12942\n",
      "STYKKISHOLMUR GSN 04013\n",
      "VESTMANNAEYJAR GSN 04048\n",
      "AKUREYRI GSN 04063\n",
      "SIBOLGA/PINANGSORI GSN 96073\n",
      "TAREMPA GSN 96145\n",
      "PADANG/TABING GSN 96163\n",
      "JAKARTA/OBSERVATORY GSN 96745\n",
      "CILACAP GSN 96805\n",
      "SANGKAPURA (BAWEAN GSN 96925\n",
      "MENADO/ SAM RATULAN GSN 97014\n",
      "KENDARI/WOLTER MONG GSN 97146\n",
      "WAINGAPU/MAU HAU GSN 97340\n",
      "KUPANG/ELTARI GSN 97372\n",
      "SORONG/JEFMAN GSN 97502\n",
      "BIAK/FRANS KAISIEPO GSN 97560\n",
      "WAMENA GSN 97686\n",
      "JAYAPURA/SENTANI GSN 97690\n",
      "AMBON/PATTIMURA GSN 97724\n",
      "SAUMLAKI/OLILIT GSN 97900\n",
      "MERAUKE/MOPAH GSN 97980\n",
      "MATARAM-LOMBOK INTL AIRPORT GSN 97240\n",
      "BEGUMPET OBSY GSN 43128\n",
      "GAUHATI GSN 42410\n",
      "DALTONGANJ GSN 42587\n",
      "DEESA GSN 42539\n",
      "DWARKA GSN 42731\n",
      "SHIMLA GSN 42083\n",
      "SRINAGAR GSN 42027\n",
      "BANGALORE GSN 43295\n",
      "JAGDALPUR GSN 43041\n",
      "PENDRA ROAD GSN 42779\n",
      "SAGAR GSN 42671\n",
      "POONA GSN 43063\n",
      "CHERRAPUNJI GSN 42515\n",
      "BIKANER GSN 42165\n",
      "MADRAS/MINAMBAKKAM GSN 43279\n",
      "KODAIKANAL GSN 43339\n",
      "PAMBAN GSN 43363\n",
      "NEW DELHI/SAFDARJUN GSN 42182\n",
      "DARJEELING GSN 42295\n",
      "MINICOY OBSY GSN 43369\n",
      "PORT BLAIR GSN 43333\n",
      "TABRIZ GSN 40706\n",
      "MASHHAD GSN 40745\n",
      "KERMAN GSN 40841\n",
      "SHIRAZ GSN 40848\n",
      "TEHRAN-MEHRABAD GSN 40754\n",
      "KERMANSHAH GSN 40766\n",
      "ZAHEDAN GSN 40856\n",
      "ELAT GSN 40199\n",
      "MONTE CIMONE GSN 16134\n",
      "CAPO BELLAVISTA GSN 16550\n",
      "PAGANELLA GSN 16022\n",
      "VIGNA DI VALLE GSN 16224\n",
      "MONTE S. ANGELO GSN 16258\n",
      "ODIENNE GSN 65528\n",
      "ADIAKE GSN 65585\n",
      "SASSANDRA GSN 65599\n",
      "KUT-AL-HAI GSN 40665\n",
      "WAKKANAI GSN 47401\n",
      "NEMURO GSN 47420\n",
      "AKITA GSN 47582\n",
      "WAJIMA GSN 47600\n",
      "CHOSHI GSN 47648\n",
      "SHIONOMISAKI GSN 47778\n",
      "OITA GSN 47815\n",
      "NAGASAKI GSN 47817\n",
      "SHIMOJISHIMA GSN 47927\n",
      "NAHA GSN 47936\n",
      "KITADAITO GSN 47945\n",
      "CHICHIJIMA GSN 47971\n",
      "MINAMI TORI SHIMA MA GSN 47991\n",
      "MONTEGO BAY/SANGSTE GSN 78388\n",
      "JAN MAYEN GSN 01001\n",
      "LODWAR GSN 63612\n",
      "MANDERA GSN 63624\n",
      "KITALE GSN 63661\n",
      "GARISSA GSN 63723\n",
      "JOMO KENYATTA INTL GSN 63740\n",
      "MOMBASA GSN 63820\n",
      "NARYN GSN 36974\n",
      "BISHKEK GSN 38353\n",
      "CHUNGGANG GSN 47014\n",
      "TARAWA GSN 91610\n",
      "INCHEON GSN 47112\n",
      "ULLEUNGDO GSN 47115\n",
      "MOKPO GSN 47165\n",
      "CHRISTMAS ISLAND AE GSN 96995\n",
      "KUWAIT INTERNATIONA GSN 40582\n",
      "KUSTANAI GSN 28952\n",
      "IRTYSHSK GSN 29807\n",
      "ATBASAR GSN 35078\n",
      "URALSK GSN 35108\n",
      "KARAGANDA GSN 35394\n",
      "UIL GSN 35416\n",
      "BALHASH GSN 35796\n",
      "KAZALINSK GSN 35849\n",
      "SAM GSN 35925\n",
      "SEMEJ GSN 36177\n",
      "KOKPEKTY GSN 36535\n",
      "ZHARKENT GSN 36859\n",
      "ALMATY GSN 36870\n",
      "LIEPAJA GSN 26406\n",
      "VILNIUS GSN 26730\n",
      "POPRAD/TATRY GSN 11934\n",
      "LUXEMBOURG AIRPORT GSN 06590\n",
      "SEBHA GSN 62124\n",
      "HON GSN 62131\n",
      "KUFRA GSN 62271\n",
      "TRIPOLI AIRPORT GSN 62010\n",
      "BENGHAZI BENINA GSN 62053\n",
      "ANTSIRANANA GSN 67009\n",
      "ANALALAVA GSN 67019\n",
      "ANTANANARIVO/IVATO GSN 67083\n",
      "TOAMASINA GSN 67095\n",
      "MANANJARY GSN 67143\n",
      "TOLIARA GSN 67161\n",
      "TAOLAGNARO GSN 67197\n",
      "ANTSIRABATO GSN 67025\n",
      "MAINTIRANO GSN 67073\n",
      "KISINEV GSN 33815\n",
      "DZAOUDZI PAMANDZI GSN 67005\n",
      "ULAAN-GOM GSN 44212\n",
      "HOVD GSN 44218\n",
      "MUREN GSN 44231\n",
      "BULGAN GSN 44239\n",
      "CHOIBALSAN GSN 44259\n",
      "ULIASTAI GSN 44272\n",
      "ARVAIHEER GSN 44288\n",
      "ERDENETSAGAAN GSN 44317\n",
      "MANDALGOBI GSN 44341\n",
      "DALANZADGAD GSN 44373\n",
      "CHILEKA GSN 67693\n",
      "LAZAROPOLE GSN 13577\n",
      "TESSALIT GSN 61202\n",
      "TOMBOUCTOU GSN 61223\n",
      "MENAKA GSN 61250\n",
      "KITA GSN 61270\n",
      "SIKASSO GSN 61297\n",
      "MIDELT GSN 60195\n",
      "OUARZAZATE GSN 60265\n",
      "KENITRA PORT LYAUTEY GSN 60120\n",
      "AGALEGA GSN 61974\n",
      "ST. BRANDON (ST. RA GSN 61986\n",
      "RODRIGUES GSN 61988\n",
      "PLAISANCE (MAURITIU GSN 61990\n",
      "BIR MOGHREIN GSN 61401\n",
      "NOUADHIBOU GSN 61415\n",
      "ATAR GSN 61421\n",
      "TIDJIKJA GSN 61450\n",
      "NEMA GSN 61497\n",
      "LUQA GSN 16597\n",
      "SAIQ GSN 41254\n",
      "MASIRAH GSN 41288\n",
      "SALALAH GSN 41316\n",
      "MALE GSN 43555\n",
      "LA PAZ (CITY) GSN 76405\n",
      "CHOIX GSN 76311\n",
      "MONTERREY (CITY) GSN 76393\n",
      "COLONIA JUAN CARRAS GSN 76458\n",
      "GUANAJUATO GSN 76577\n",
      "AEROP.INTERNACIONAL GSN 76644\n",
      "MANZANILLO GSN 76654\n",
      "MEXICO CITY GSN 76680\n",
      "SALINA CRUZ GSN 76833\n",
      "CHIHUAHUA CHIH. GSN 76225\n",
      "HACIENDA YLANG YLANG VERACRUZ GSN 76692\n",
      "SITIAWAN GSN 48620\n",
      "KUANTAN GSN 48657\n",
      "KUCHING GSN 96413\n",
      "BINTULU GSN 96441\n",
      "LABUAN GSN 96465\n",
      "SANDAKAN GSN 96491\n",
      "PEMBA GSN 67215\n",
      "QUELIMANE GSN 67283\n",
      "BEIRA GSN 67297\n",
      "INHAMBANE GSN 67323\n",
      "KOUMAC (NLLE-CALEDO GSN 91577\n",
      "NOUMEA (NLLE-CALEDO GSN 91592\n",
      "HANAN AIRPORT GSN 91824\n",
      "NORFOLK ISLAND INTL GSN 94996\n",
      "BILMA GSN 61017\n",
      "AGADEZ GSN 61024\n",
      "TAHOUA GSN 61043\n",
      "MAINE-SOROA GSN 61096\n",
      "PEKOA AIRPORT (SANT GSN 91554\n",
      "ANEITYUM GSN 91568\n",
      "MINNA GSN 65123\n",
      "YOLA GSN 65167\n",
      "DE BILT GSN 06260\n",
      "TROMSO GSN 01026\n",
      "ONA HUSOY GSN 01212\n",
      "TORUNGEN FYR GSN 01465\n",
      "BODO VI GSN 01152\n",
      "UTSIRA FYR GSN 01403\n",
      "VARDO GSN 01098\n",
      "BJOERNOEYA GSN 01028\n",
      "FOKSTUA GSN 01238\n",
      "KATHMANDU AIRPORT GSN 44454\n",
      "GISBORNE AERODROME GSN 93292\n",
      "NEW PLYMOUTH AWS GSN 93309\n",
      "TARA HILLS GSN 93747\n",
      "CAMPBELL ISLAND AWS GSN 93947\n",
      "CHATHAM ISLANDS AWS GSN 93987\n",
      "PUERTO CASADO GSN 86086\n",
      "ENCARNACION GSN 86297\n",
      "PITCAIRN ISLAND C GSN 91964\n",
      "IQUITOS GSN 84377\n",
      "CHACHAPOYAS GSN 84444\n",
      "TARAPOTO GSN 84455\n",
      "AREQUIPA GSN 84752\n",
      "PARACHINAR GSN 41560\n",
      "ZHOB GSN 41620\n",
      "LAHORE CITY GSN 41640\n",
      "DAL BANDIN GSN 41712\n",
      "PASNI GSN 41759\n",
      "HYDERABAD AIRPORT GSN 41764\n",
      "LEBA GSN 12120\n",
      "SIEDLCE GSN 12385\n",
      "HORTA (AZORES) GSN 08506\n",
      "FUNCHAL GSN 08522\n",
      "LISBOA GEOFISICA GSN 08535\n",
      "PONTA DELGADA GSN 08512\n",
      "PORT MORESBY W.O. GSN 92035\n",
      "MOMOTE W.O. GSN 92044\n",
      "PW KOROR WSO GSN 91408\n",
      "MH KWAJALEIN GSN 91366\n",
      "MH MAJURO WBAS AP GSN 91376\n",
      "BISTRITA GSN 15085\n",
      "VARFU OMUL GSN 15280\n",
      "SULINA GSN 15360\n",
      "APARRI GSN 98232\n",
      "SCIENCE GARDEN GSN 98430\n",
      "LEGASPI GSN 98444\n",
      "HINATUAN GSN 98755\n",
      "ZAMBOANGA GSN 98836\n",
      "GEN. SANTOS GSN 98851\n",
      "PR SAN JUAN L M MARIN AP GSN 78526\n",
      "POLAR GMO IM.E.T.KRENKELJ GSN 20046\n",
      "OSTROV VIZE GSN 20069\n",
      "OSTROV GOLOMJANNYJ GSN 20087\n",
      "GMO IM.E.K.FEDOROVA GSN 20292\n",
      "BELY ISLAND GSN 20667\n",
      "DIKSON GSN 20674\n",
      "MALIYE_KARMAKULY GSN 20744\n",
      "HATANGA GSN 20891\n",
      "VOLOCHANKA GSN 20982\n",
      "OSTROV KOTELNYJ GSN 21432\n",
      "SASKYLAH GSN 21802\n",
      "KJUSJUR GSN 21921\n",
      "JUBILEJNAJA GSN 21931\n",
      "CHOKURDAH GSN 21946\n",
      "OSTROV VRANGELJA GSN 21982\n",
      "MURMANSK GSN 22113\n",
      "KANIN NOS GSN 22165\n",
      "KANDALAKSA GSN 22217\n",
      "MEZEN GSN 22471\n",
      "KEM-PORT GSN 22520\n",
      "ARHANGELSK GSN 22550\n",
      "SORTAVALA GSN 22802\n",
      "VYTEGRA GSN 22837\n",
      "DUDINKA GSN 23074\n",
      "NARJAN MAR GSN 23205\n",
      "SALEKHARD GSN 23330\n",
      "AGATA GSN 23383\n",
      "UST TZILMA GSN 23405\n",
      "TURUHANSK GSN 23472\n",
      "TARKO-SALE GSN 23552\n",
      "BEREZOVO GSN 23631\n",
      "VERHNEIMBATSK GSN 23678\n",
      "TROICKO-PECHERSKOE GSN 23711\n",
      "NJAKSIMVOL GSN 23724\n",
      "BOR GSN 23884\n",
      "BAJKIT GSN 23891\n",
      "CHERDYN' GSN 23914\n",
      "HANTY-MANSIJSK GSN 23933\n",
      "ALEKSANDROVSKOE GSN 23955\n",
      "OLENEK GSN 24125\n",
      "DZARDZAN GSN 24143\n",
      "VERHOJANSK GSN 24266\n",
      "SELAGONCY GSN 24329\n",
      "ZHIGANSK GSN 24343\n",
      "UST-MOMA GSN 24382\n",
      "TURA GSN 24507\n",
      "VILJUJSK GSN 24641\n",
      "TOMPO GSN 24671\n",
      "OJMJAKON GSN 24688\n",
      "SUNTAR GSN 24738\n",
      "ERBOGACEN GSN 24817\n",
      "VANAVARA GSN 24908\n",
      "JAKUTSK GSN 24959\n",
      "UST-MAJA GSN 24966\n",
      "MYS SHMIDTA GSN 25173\n",
      "ILIRNEJ GSN 25248\n",
      "UST-OLOJ GSN 25325\n",
      "ENMUVEEM GSN 25356\n",
      "MYS UELEN GSN 25399\n",
      "ZYRJANKA GSN 25400\n",
      "VERHNEE PENZINO GSN 25538\n",
      "MARKOVO GSN 25551\n",
      "ANADYR GSN 25563\n",
      "BUHTA PROVIDENJA GSN 25594\n",
      "SREDNEKAN GSN 25705\n",
      "BROHOVO GSN 25927\n",
      "KORF GSN 25954\n",
      "ST. PETERSBURG GSN 26063\n",
      "PUSKINSKIE_GORY GSN 26359\n",
      "SMOLENSK GSN 26781\n",
      "TRUBCEVSK GSN 26997\n",
      "VOLOGDA GSN 27037\n",
      "TOT-MA GSN 27051\n",
      "KAZAN GSN 27595\n",
      "MOSCOW GSN 27612\n",
      "ELATMA GSN 27648\n",
      "BEZENCHUK GSN 27995\n",
      "KIRS GSN 28009\n",
      "LEUSI GSN 28064\n",
      "BISER GSN 28138\n",
      "PERM GSN 28224\n",
      "TOBOLSK GSN 28275\n",
      "SARAPUL GSN 28418\n",
      "TARA GSN 28493\n",
      "SHADRINSK GSN 28552\n",
      "OMSK GSN 28698\n",
      "UFA GSN 28722\n",
      "KOLPASEVO GSN 29231\n",
      "ENISEJSK GSN 29263\n",
      "BOGUCANY GSN 29282\n",
      "KRASNOJARSK GSN 29570\n",
      "BARABINSK GSN 29612\n",
      "VERHNJAJA GUTARA GSN 29789\n",
      "MINUSINSK GSN 29866\n",
      "BIJSK ZONALNAJA GSN 29939\n",
      "VITIM GSN 30054\n",
      "KIRENSK GSN 30230\n",
      "BRATSK GSN 30309\n",
      "CHARA GSN 30372\n",
      "NIZHNEANGARSK GSN 30433\n",
      "BAGDARIN GSN 30554\n",
      "BARGUZIN GSN 30636\n",
      "MOGOCA GSN 30673\n",
      "IRKUTSK GSN 30710\n",
      "CHITA GSN 30758\n",
      "NERCHINSKIJ ZAVOD GSN 30879\n",
      "KJAHTA GSN 30925\n",
      "KYRA GSN 30949\n",
      "BORZJA GSN 30965\n",
      "ALDAN GSN 31004\n",
      "OHOTSK GSN 31088\n",
      "AJAN GSN 31168\n",
      "BOMNAK GSN 31253\n",
      "EKIMCHAN GSN 31329\n",
      "NIKOLAEVSK-NA-AMURE GSN 31369\n",
      "IM. POLINY OSIPENKO GSN 31416\n",
      "EKATERINO-NIKOLSKOE GSN 31707\n",
      "ZOLOTOJ GSN 31829\n",
      "DALNERECHENSK GSN 31873\n",
      "VLADIVOSTOK GSN 31960\n",
      "ALEKSANDROVSK-SAHALINSKIJ GSN 32061\n",
      "PORONAJSK GSN 32098\n",
      "JUZHNO-SAHALINSK GSN 32150\n",
      "UST-VOJAMPOLKA GSN 32252\n",
      "KLJUCHI GSN 32389\n",
      "NIKOLSKOYE/BERINGA OSTROV GSN 32618\n",
      "VORONEZ GSN 34123\n",
      "OKTJABRSKIJ-GORODOK GSN 34163\n",
      "ERSOV GSN 34186\n",
      "JASKUL GSN 34866\n",
      "ASTRAKAN GSN 34880\n",
      "KRASNODAR GSN 34927\n",
      "SOROCINSK GSN 35011\n",
      "KOSCH-AGACH GSN 36259\n",
      "DERBENT GSN 37470\n",
      "AL-JOUF GSN 40361\n",
      "AL-MADINAH GSN 40430\n",
      "RIYADH OBS. (O.A.P. GSN 40438\n",
      "JEDDAH (KING ABDUL GSN 41024\n",
      "HAIL GSN 40394\n",
      "KING ABDULLAH BIN ABDULAZIZ GSN 41140\n",
      "SEYCHELLES INTERNAT GSN 63980\n",
      "KIMBERLEY GSN 68438\n",
      "EAST LONDON GSN 68858\n",
      "MARION ISLAND GSN 68994\n",
      "GEORGE AIRPORT GSN 68828\n",
      "CALVINIA GSN 68618\n",
      "SPRINGBOK GSN 68512\n",
      "BLOEMFONTEIN AIRPOR GSN 68442\n",
      "MEQUATLINGSNEK\n",
      "UPINGTON AGR. GSN 68424\n",
      "LAINGSNEK\n",
      "POLOKWANE GSN 68174\n",
      "MAFIKENG GSN 68242\n",
      "PRETORIA(MET) GSN 68262\n",
      "BETHLEHEM GSN 68461\n",
      "DEAAR(UA) GSN 68538\n",
      "DURBAN INTL GSN 68588\n",
      "CAPE TOWN INTL GSN 68816\n",
      "PORT ELIZABETH INTL GSN 68842\n",
      "PODOR GSN 61612\n",
      "DAKAR/YOFF GSN 61641\n",
      "TAMBACOUNDA GSN 61687\n",
      "ST. HELENA IS. GSN 61901\n",
      "WIDE AWAKE FIELD (A GSN 61902\n",
      "GOUGH ISLAND GSN 68906\n",
      "LUNGI GSN 61856\n",
      "SAN SEBASTIAN - IGUELDO GSN 08027\n",
      "BARCELONA/AEROPUERTO GSN 08181\n",
      "SALAMANCA AEROPUERTO GSN 08202\n",
      "NAVACERRADA GSN 08215\n",
      "ALBACETE LOS LLANOS GSN 08280\n",
      "CORDOBA AEROPUERTO GSN 08410\n",
      "IZANA GSN 60010\n",
      "LANZAROTE/AEROPUERTO GSN 60040\n",
      "MELILLA GSN 60338\n",
      "WADI HALFA GSN 62600\n",
      "ABU HAMED GSN 62640\n",
      "PORT SUDAN GSN 62641\n",
      "DONGOLA GSN 62650\n",
      "KASSALA GSN 62730\n",
      "EL FASHER GSN 62760\n",
      "SENNAR GSN 62762\n",
      "GENINA GSN 62770\n",
      "EN NAHUD GSN 62781\n",
      "MALKAL GSN 62840\n",
      "WAU GSN 62880\n",
      "JUBA GSN 62941\n",
      "SVALBARD AIRPORT GSN 01008\n",
      "KVIKKJOKK-ARRENJARKA GSN 02120\n",
      "HAPARANDA GSN 02196\n",
      "MALUNG GSN 02410\n",
      "OESTERSUND-FROESOEN GSN 02226\n",
      "RYNINGSNAS\n",
      "HOLMON A GSN 02287\n",
      "GOTSKA SANDON A GSN 02589\n",
      "GRYTVIKEN GSN 88903\n",
      "KAMISHLI GSN 40001\n",
      "LATTAKIA GSN 40022\n",
      "PALMYRA GSN 40061\n",
      "SAENTIS GSN 06680\n",
      "COL DU GRAND ST-BERNARD GSN 06717\n",
      "CHIANG RAI GSN 48303\n",
      "NAKHON SAWAN GSN 48400\n",
      "ARANYAPRATHET GSN 48462\n",
      "PRACHUAP KHIRI KHAN GSN 48500\n",
      "CHUMPHON GSN 48517\n",
      "SONGKHLA GSN 48568\n",
      "KURGAN-TYUBE GSN 38933\n",
      "KHOROG GSN 38954\n",
      "MANGO/SANSANNE GSN 65352\n",
      "JENDOUBA GSN 60725\n",
      "GABES GSN 60765\n",
      "RIZE GSN 17040\n",
      "ISTANBUL GSN 17062\n",
      "KASTAMONU GSN 17074\n",
      "SIVAS GSN 17090\n",
      "VAN GSN 17170\n",
      "ISPARTA GSN 17240\n",
      "FINIKE GSN 17375\n",
      "NANUMEA GSN 91631\n",
      "FUNAFUTI INTL ARPT GSN 91643\n",
      "TURKMEN-BASHI GSN 38507\n",
      "ESENGYLY GSN 38750\n",
      "GYZYLARBAT GSN 38763\n",
      "BAJRAMALY GSN 38895\n",
      "CARSANGA GSN 38915\n",
      "TABORA AIRPORT GSN 63832\n",
      "DODOMA GSN 63862\n",
      "DAR ES SALAAM AIRPO GSN 63894\n",
      "SONGEA GSN 63962\n",
      "LERWICK GSN 03005\n",
      "STORNOWAY AIRPORT GSN 03026\n",
      "ESKDALEMUIR GSN 03162\n",
      "VALLEY GSN 03302\n",
      "WADDINGTON GSN 03377\n",
      "CAMBORNE GSN 03808\n",
      "SHEPETIVKA GSN 33317\n",
      "LUBNY GSN 33377\n",
      "UMAN GSN 33587\n",
      "ASKANIIA NOVA GSN 33915\n",
      "SC GREER GSN HCN 72312\n",
      "MO COLUMBIA RGNL AP GSN 72445\n",
      "FL KEY WEST INTL AP GSN HCN 72201\n",
      "FL TAMPA INTL AP GSN 72211\n",
      "LA NEW ORLEANS INTL AP GSN 72231\n",
      "TX SAN ANTONIO INTL AP GSN HCN 72253\n",
      "NC RALEIGH DURHAM INTL AP GSN 72306\n",
      "VA WASHINGTON REAGAN AP GSN 72405\n",
      "MS MERIDIAN KEY FLD GSN 72234\n",
      "SC CHARLESTON INTL AP GSN 72208\n",
      "TN CHATTANOOGA LOVELL AP GSN 72324\n",
      "LA SHREVEPORT GSN 72248\n",
      "TX ABILENE RGNL AP GSN 72266\n",
      "AR FT SMITH RGNL AP GSN 72344\n",
      "OK OKLAHOMA CITY WILL ROGERS AP GSN 72353\n",
      "KS CONCORDIA MUNI AP GSN 72458\n",
      "KS DODGE CITY GSN 72451\n",
      "ME CARIBOU MUNI AP GSN 72712\n",
      "VT BURLINGTON INTL AP GSN HCN 72617\n",
      "MA BLUE HILL GSN 74492\n",
      "NH MT WASHINGTON GSN 72613\n",
      "NY SYRACUSE HANCOCK INTL AP GSN HCN 72519\n",
      "MI MARQUETTE GSN 72743\n",
      "IL PEORIA GTR PEORIA AP GSN 72532\n",
      "MN MINNEAPOLIS/ST PAUL AP GSN HCN 72658\n",
      "IA DES MOINES INTL AP GSN 72546\n",
      "SD HURON RGNL AP GSN 72654\n",
      "NE NORFOLK KARL STEFAN AP GSN 72556\n",
      "HI HILO INTL AP GSN 91285\n",
      "HI LIHUE WSO AP 1020.1 GSN 91165\n",
      "TX EL PASO INTL AP GSN HCN 72270\n",
      "NM ALBUQUERQUE INTL AP GSN 72365\n",
      "NM CLAYTON MUNI AIR PK GSN HCN 72360\n",
      "CO GRAND JUNCTION WALKER FLD GSN 72476\n",
      "NV ELY YELLAND FLD AP GSN 72486\n",
      "NV LAS VEGAS MCCARRAN AP GSN 72386\n",
      "AZ PHOENIX SKY HARBOR INTL AP GSN 72278\n",
      "CA SAN DIEGO LINDBERGH FLD GSN 72290\n",
      "CA SACRAMENTO EXECUTIVE AP GSN 72483\n",
      "ND BISMARCK GSN 72764\n",
      "WY LANDER HUNT FLD AP GSN 72576\n",
      "NE NORTH PLATTE RGNL AP GSN 72562\n",
      "WY SHERIDAN CO AP GSN 72666\n",
      "NV WINNEMUCCA MUNI AP GSN HCN 72583\n",
      "ID BOISE AIR TERMINAL GSN 72681\n",
      "MT HELENA RGNL AP GSN HCN 72772\n",
      "OR PENDLETON GSN 72688\n",
      "ID POCATELLO RGNL AP GSN 72578\n",
      "CA EUREKA WFO WOODLEY ISLAND GSN HCN 72594\n",
      "WA OLYMPIA AP GSN 72792\n",
      "AK ANNETTE ISLAND AP GSN 70398\n",
      "AK YAKUTAT STATE AP GSN 70361\n",
      "AK KING SALMON GSN 70326\n",
      "AK HOMER AP GSN 70341\n",
      "AK COLD BAY AP GSN 70316\n",
      "AK ST PAUL ISLAND AP GSN 70308\n",
      "AK FAIRBANKS INTL AP GSN 70261\n",
      "AK MCGRATH AP GSN 70231\n",
      "AK TALKEETNA AP GSN 70251\n",
      "AK BETHEL AP GSN 70219\n",
      "AK KOTZEBUE RALPH WEIN AP GSN 70133\n",
      "AK NOME MUNI AP GSN 70200\n",
      "AK BARTER ISLAND WSO AP GSN 70086\n",
      "AK BARROW POST ROGERS AP GSN 70026\n",
      "CA FRESNO YOSEMITE INTL AP GSN HCN 72389\n",
      "NC CAPE HATTERAS AP GSN HCN 72304\n",
      "IN EVANSVILLE REGIONAL AP GSN 72432\n",
      "KY LEXINGTON BLUEGRASS AP GSN 72422\n",
      "MT GLASGOW INTL AP GSN HCN 72768\n",
      "PA PITTSBURGH INTL AP GSN 72520\n",
      "DORI GSN 65501\n",
      "BOROMO GSN 65516\n",
      "MELO GSN 86440\n",
      "EST.MET.ARTIGAS GSN 86330\n",
      "MERCEDES GSN 86490\n",
      "ROCHA GSN 86565\n",
      "CIMBAJ GSN 38262\n",
      "TAMDY GSN 38413\n",
      "TASHKENT GSN 38457\n",
      "LA ORCHILA GSN 80405\n",
      "GUIRIA GSN 80423\n",
      "MENE GRANDE GSN 80425\n",
      "MERIDA GSN 80438\n",
      "SAN FERNANDO GSN 80450\n",
      "TUMEREMO GSN 80453\n",
      "SANTA ELENA DE UAIR GSN 80462\n",
      "TAN SON HOA GSN 48900\n",
      "DANANG INTL GSN 48855\n",
      "J.G.H. VAN DER WATH AIRP GSN 68312\n",
      "GOBABEB GSN 68106\n",
      "WINDHOEK GSN 68110\n",
      "GROOTFONTEIN GSN 68014\n",
      "HIHIFO (ILE WALLIS) GSN 91753\n",
      "MWINILUNGA GSN 67441\n",
      "KASAMA GSN 67475\n",
      "CHIPATA GSN 67581\n",
      "MONGU GSN 67633\n",
      "LIVINGSTONE GSN 67743\n",
      "HARARE (KUTSAGA) GSN 67775\n",
      "CHIPINGE GSN 67983\n"
     ]
    }
   ],
   "source": [
    "for i,z in stations.items():\n",
    "    print(z)"
   ]
  },
  {
   "cell_type": "code",
   "execution_count": 125,
   "metadata": {
    "collapsed": true
   },
   "outputs": [],
   "source": [
    "import pandas as pd"
   ]
  },
  {
   "cell_type": "code",
   "execution_count": 126,
   "metadata": {
    "collapsed": true
   },
   "outputs": [],
   "source": [
    "s = pd.Series([0,0,1,2,3,4,5])"
   ]
  },
  {
   "cell_type": "code",
   "execution_count": 127,
   "metadata": {},
   "outputs": [
    {
     "data": {
      "text/plain": [
       "0    0\n",
       "1    0\n",
       "2    1\n",
       "3    2\n",
       "4    3\n",
       "5    4\n",
       "6    5\n",
       "dtype: int64"
      ]
     },
     "execution_count": 127,
     "metadata": {},
     "output_type": "execute_result"
    }
   ],
   "source": [
    "s"
   ]
  },
  {
   "cell_type": "code",
   "execution_count": 128,
   "metadata": {},
   "outputs": [
    {
     "data": {
      "text/plain": [
       "0"
      ]
     },
     "execution_count": 128,
     "metadata": {},
     "output_type": "execute_result"
    }
   ],
   "source": [
    "s[1]"
   ]
  },
  {
   "cell_type": "code",
   "execution_count": 130,
   "metadata": {},
   "outputs": [],
   "source": [
    "t = pd.Series(['gameid','@school'],index=['kos','kc'])"
   ]
  },
  {
   "cell_type": "code",
   "execution_count": 131,
   "metadata": {},
   "outputs": [
    {
     "data": {
      "text/plain": [
       "kos     gameid\n",
       "kc     @school\n",
       "dtype: object"
      ]
     },
     "execution_count": 131,
     "metadata": {},
     "output_type": "execute_result"
    }
   ],
   "source": [
    "t"
   ]
  },
  {
   "cell_type": "code",
   "execution_count": 132,
   "metadata": {},
   "outputs": [
    {
     "data": {
      "text/plain": [
       "RangeIndex(start=0, stop=7, step=1)"
      ]
     },
     "execution_count": 132,
     "metadata": {},
     "output_type": "execute_result"
    }
   ],
   "source": [
    "s.index"
   ]
  },
  {
   "cell_type": "code",
   "execution_count": 133,
   "metadata": {},
   "outputs": [
    {
     "data": {
      "text/plain": [
       "Index(['kos', 'kc'], dtype='object')"
      ]
     },
     "execution_count": 133,
     "metadata": {},
     "output_type": "execute_result"
    }
   ],
   "source": [
    "t.index"
   ]
  },
  {
   "cell_type": "code",
   "execution_count": 134,
   "metadata": {},
   "outputs": [
    {
     "data": {
      "text/plain": [
       "0    0\n",
       "1    0\n",
       "2    1\n",
       "dtype: int64"
      ]
     },
     "execution_count": 134,
     "metadata": {},
     "output_type": "execute_result"
    }
   ],
   "source": [
    "s[0:3]"
   ]
  },
  {
   "cell_type": "code",
   "execution_count": 137,
   "metadata": {},
   "outputs": [
    {
     "data": {
      "text/plain": [
       "kos    gameid\n",
       "dtype: object"
      ]
     },
     "execution_count": 137,
     "metadata": {},
     "output_type": "execute_result"
    }
   ],
   "source": [
    "t[:'kos']"
   ]
  },
  {
   "cell_type": "code",
   "execution_count": 136,
   "metadata": {},
   "outputs": [
    {
     "data": {
      "text/plain": [
       "kos    gameid\n",
       "dtype: object"
      ]
     },
     "execution_count": 136,
     "metadata": {},
     "output_type": "execute_result"
    }
   ],
   "source": [
    "t.iloc[:1]"
   ]
  },
  {
   "cell_type": "code",
   "execution_count": 139,
   "metadata": {},
   "outputs": [
    {
     "data": {
      "text/plain": [
       "kos    gameid\n",
       "dtype: object"
      ]
     },
     "execution_count": 139,
     "metadata": {},
     "output_type": "execute_result"
    }
   ],
   "source": [
    "t.loc[:\"kos\"]"
   ]
  },
  {
   "cell_type": "code",
   "execution_count": null,
   "metadata": {
    "collapsed": true
   },
   "outputs": [],
   "source": []
  }
 ],
 "metadata": {
  "kernelspec": {
   "display_name": "Python 3",
   "language": "python",
   "name": "python3"
  },
  "language_info": {
   "codemirror_mode": {
    "name": "ipython",
    "version": 3
   },
   "file_extension": ".py",
   "mimetype": "text/x-python",
   "name": "python",
   "nbconvert_exporter": "python",
   "pygments_lexer": "ipython3",
   "version": "3.6.1"
  }
 },
 "nbformat": 4,
 "nbformat_minor": 2
}
